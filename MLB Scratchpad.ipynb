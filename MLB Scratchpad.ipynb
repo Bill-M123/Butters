{
 "cells": [
  {
   "cell_type": "code",
   "execution_count": 1,
   "metadata": {},
   "outputs": [],
   "source": [
    "import json\n",
    "import numpy as np\n",
    "import matplotlib.pyplot as plt\n",
    "import pandas as pd\n",
    "import requests\n",
    "import datetime"
   ]
  },
  {
   "cell_type": "code",
   "execution_count": 15,
   "metadata": {},
   "outputs": [
    {
     "name": "stdout",
     "output_type": "stream",
     "text": [
      " [u'lat', u'lng', u'address', u'team']\n",
      "Anaheim Angels 2000 Gene Autry Way, Anaheim, CA. 92806 33.799572 -117.889031\n",
      "Arizona Diamondbacks P.O. Box 2095, Phoenix, AZ. 85001 33.452922 -112.038669\n",
      "Atlanta Braves P.O. Box 4064, Atlanta, GA. 30302 33.74691 -84.391239\n",
      "Baltimore Orioles 333 W. Camden Street, Baltimore, MD. 21201 39.285243 -76.620103\n",
      "Boston Red Sox 4 Yawkey Way, Boston, MA 02215 42.346613 -71.098817\n",
      "Chicago Cubs 1060 Addison Street, Chicago, IL 60616 41.947201 -87.656413\n",
      "Chicago White Sox 333 W. 35th Street, Chicago, IL 60616 41.830883 -87.635083\n",
      "Cincinnati Reds 100 Cinergy Field, Cincinnati, OH 45202 39.107183 -84.507713\n",
      "Cleveland Indians 2401 Ontario Street, Cleveland, OH 44115 41.495149 -81.68709\n",
      "Colorado Rockies Coors Field, 2001 Blake Street, Denver, CO 80205-2000 39.75698 -104.965329\n",
      "Detroit Tigers Comerica Park, 2100 Woodward Ave., Detroit, MI 48201 42.346354 -83.059619\n",
      "Florida Marlins 2269 NW 199th Street, Miami, FL 33056 25.954428 -80.238164\n",
      "Houston Astros P.O. Box 288, Houston, TX 77001-0288 29.76045 -95.369784\n",
      "Kansas City Royals P.O. Boz 419969, Kansas City, MO 64141 39.10222 -94.583559\n",
      "Los Angeles Dodgers 1000 Elysian Park Ave., Los Angeles, CA 90012 34.072437 -118.246879\n",
      "Milwaukee Brewers P.O. Box 3099, Milwaukee, WI 53201-3099 43.04205 -87.905599\n",
      "Minnesota Twins 501 Chicago Ave. S., Minneapolis, MN 55415 44.974346 -93.259616\n",
      "Washington Nationals 1500 South Capitol Street SE, Washington, DC 38.87 -77.01\n",
      "New York Mets Roosevelt Ave & 126th Street, New York, NY 11368 40.75535 -73.843219\n",
      "New York Yankees Yankee Stadium, E. 161 Street & River Ave., New York, NY 10451 40.819782 -73.929939\n",
      "Oakland Athletics Oakland Coliseum, 700 Coliseum Way, Oakland, Ca 94621-1918 37.74923 -122.196487\n",
      "Philadelphia Phillies P.O. Box 7575, Philadelphia, PA 19101 39.952313 -75.162392\n",
      "Pittsburgh Pirates 600 Stadium Circle, Pittsburgh, PA 15212 40.461503 -80.008924\n",
      "St. Louis Cardinals 250 Stadium Plaza, St. Louis, MO 63102 38.629683 -90.188247\n",
      "San Diego Padres P.O. Box 2000, San Diego, CA 92112-2000 32.752148 -117.143635\n",
      "San Francisco Giants Pacific Bell Park, 24 Willie Mays Plaza, San Francisco, CA 94107 37.77987 -122.389754\n",
      "Seattle Mariners P.O. Box 41000, 411 First Ave. S., Seattle, WA 98104 47.60174 -122.330829\n",
      "Tampa Bay Devil Rays 1 Tropicana Drive, St. Petersburg, FL 33705 27.768487 -82.648191\n",
      "Texas Rangers 1000 Ballpark Way, Arlington, TX 76011 32.750156 -97.081117\n",
      "Toronto Blue Jays 1 Blue Jay Way, Suite 3200, Toronto, ONT M5V 1J1 43.641653 -79.3917\n"
     ]
    }
   ],
   "source": [
    "\n",
    "with open(\"C:\\\\Users\\\\bill_\\\\Desktop\\\\mlb_stadium.json\") as json_data:\n",
    "  d = json.load(json_data)\n",
    "\n",
    "print d[0].keys()\n",
    "for team in d:\n",
    "    print team['team'],team['address'],team['lat'],team['lng']\n"
   ]
  },
  {
   "cell_type": "code",
   "execution_count": 36,
   "metadata": {},
   "outputs": [
    {
     "name": "stdout",
     "output_type": "stream",
     "text": [
      "{u'hourly': {u'icon': u'snow', u'data': [{u'ozone': 414.12, u'windGust': 14.67, u'temperature': 37.15, u'icon': u'partly-cloudy-night', u'precipType': u'rain', u'humidity': 0.74, u'cloudCover': 0.31, u'summary': u'Partly Cloudy', u'apparentTemperature': 30.09, u'pressure': 1012.01, u'windSpeed': 10.06, u'visibility': 9.46, u'time': 1520910000, u'windBearing': 59, u'precipIntensity': 0.0008, u'uvIndex': 0, u'dewPoint': 29.63, u'precipProbability': 0.07}, {u'ozone': 413.97, u'windGust': 19.9, u'temperature': 36.7, u'icon': u'partly-cloudy-night', u'precipType': u'rain', u'humidity': 0.77, u'cloudCover': 0.6, u'summary': u'Mostly Cloudy', u'apparentTemperature': 28.58, u'pressure': 1010.21, u'windSpeed': 12.31, u'visibility': 8.17, u'time': 1520913600, u'windBearing': 59, u'precipIntensity': 0.0026, u'uvIndex': 0, u'dewPoint': 30.34, u'precipProbability': 0.31}, {u'ozone': 414.34, u'windGust': 24.68, u'temperature': 36.39, u'icon': u'rain', u'precipType': u'rain', u'humidity': 0.81, u'cloudCover': 0.88, u'summary': u'Light Rain', u'apparentTemperature': 27.49, u'pressure': 1007.98, u'windSpeed': 14.21, u'visibility': 6.48, u'time': 1520917200, u'windBearing': 58, u'precipIntensity': 0.0324, u'uvIndex': 0, u'dewPoint': 31.04, u'precipProbability': 0.55}, {u'ozone': 414.05, u'windGust': 27.94, u'temperature': 36.31, u'icon': u'rain', u'precipType': u'rain', u'humidity': 0.83, u'cloudCover': 0.96, u'summary': u'Rain', u'apparentTemperature': 26.95, u'pressure': 1006.18, u'windSpeed': 15.46, u'visibility': 4.77, u'time': 1520920800, u'windBearing': 58, u'precipIntensity': 0.0579, u'uvIndex': 0, u'dewPoint': 31.59, u'precipProbability': 0.66}, {u'ozone': 412.17, u'windGust': 28.7, u'temperature': 36.15, u'icon': u'rain', u'precipType': u'rain', u'humidity': 0.84, u'cloudCover': 0.96, u'summary': u'Rain', u'apparentTemperature': 26.56, u'pressure': 1004.57, u'windSpeed': 16.07, u'visibility': 4.47, u'time': 1520924400, u'windBearing': 53, u'precipIntensity': 0.0674, u'uvIndex': 0, u'dewPoint': 31.77, u'precipProbability': 0.66}, {u'ozone': 409.63, u'windGust': 30.76, u'temperature': 36.05, u'icon': u'rain', u'precipType': u'rain', u'humidity': 0.85, u'cloudCover': 1, u'summary': u'Rain and Breezy', u'apparentTemperature': 26.11, u'pressure': 1002.82, u'windSpeed': 17.13, u'visibility': 4.81, u'time': 1520928000, u'windBearing': 49, u'precipIntensity': 0.0696, u'uvIndex': 0, u'dewPoint': 32, u'precipProbability': 0.64}, {u'ozone': 407.79, u'windGust': 32.46, u'temperature': 35.73, u'icon': u'rain', u'precipType': u'rain', u'humidity': 0.87, u'cloudCover': 0.93, u'summary': u'Rain and Breezy', u'apparentTemperature': 25.34, u'pressure': 1001.09, u'windSpeed': 18.36, u'visibility': 3.02, u'time': 1520931600, u'windBearing': 45, u'precipIntensity': 0.085, u'uvIndex': 0, u'dewPoint': 32.36, u'precipProbability': 0.65}, {u'ozone': 407.12, u'windGust': 34.7, u'temperature': 35.47, u'precipAccumulation': 0.718, u'precipType': u'snow', u'humidity': 0.88, u'cloudCover': 0.99, u'summary': u'Heavy Snow and Breezy', u'apparentTemperature': 24.58, u'pressure': 999.52, u'windSpeed': 19.84, u'windBearing': 40, u'visibility': 2.55, u'time': 1520935200, u'icon': u'snow', u'precipIntensity': 0.0945, u'uvIndex': 0, u'dewPoint': 32.31, u'precipProbability': 0.64}, {u'ozone': 407.2, u'windGust': 37.16, u'temperature': 35.1, u'precipAccumulation': 0.832, u'precipType': u'snow', u'humidity': 0.89, u'cloudCover': 0.87, u'summary': u'Heavy Snow and Breezy', u'apparentTemperature': 23.61, u'pressure': 998.1, u'windSpeed': 21.72, u'windBearing': 37, u'visibility': 2.4, u'time': 1520938800, u'icon': u'snow', u'precipIntensity': 0.1095, u'uvIndex': 0, u'dewPoint': 32.11, u'precipProbability': 0.63}, {u'ozone': 407.61, u'windGust': 38.7, u'temperature': 34.41, u'precipAccumulation': 0.882, u'precipType': u'snow', u'humidity': 0.9, u'cloudCover': 0.93, u'summary': u'Heavy Snow and Breezy', u'apparentTemperature': 22.39, u'pressure': 997.04, u'windSpeed': 22.93, u'windBearing': 32, u'visibility': 2.39, u'time': 1520942400, u'icon': u'snow', u'precipIntensity': 0.1161, u'uvIndex': 0, u'dewPoint': 31.75, u'precipProbability': 0.62}, {u'ozone': 408.79, u'windGust': 42.79, u'temperature': 33.27, u'precipAccumulation': 1.163, u'precipType': u'snow', u'humidity': 0.91, u'cloudCover': 1, u'summary': u'Heavy Snow and Windy', u'apparentTemperature': 20.7, u'pressure': 995.56, u'windSpeed': 23.68, u'windBearing': 25, u'visibility': 1.1, u'time': 1520946000, u'icon': u'snow', u'precipIntensity': 0.153, u'uvIndex': 0, u'dewPoint': 30.9, u'precipProbability': 0.63}, {u'ozone': 410.32, u'windGust': 44.5, u'temperature': 31.94, u'precipAccumulation': 1.166, u'precipType': u'snow', u'humidity': 0.91, u'cloudCover': 0.9, u'summary': u'Heavy Snow and Windy', u'apparentTemperature': 18.88, u'pressure': 994.8, u'windSpeed': 23.87, u'windBearing': 18, u'visibility': 0.91, u'time': 1520949600, u'icon': u'snow', u'precipIntensity': 0.152, u'uvIndex': 1, u'dewPoint': 29.62, u'precipProbability': 0.59}, {u'ozone': 410.89, u'windGust': 44.8, u'temperature': 31.08, u'precipAccumulation': 0.987, u'precipType': u'snow', u'humidity': 0.91, u'cloudCover': 0.94, u'summary': u'Heavy Snow and Windy', u'apparentTemperature': 17.81, u'pressure': 994.25, u'windSpeed': 23.56, u'windBearing': 12, u'visibility': 0.85, u'time': 1520953200, u'icon': u'snow', u'precipIntensity': 0.1205, u'uvIndex': 1, u'dewPoint': 28.84, u'precipProbability': 0.54}, {u'ozone': 409.75, u'windGust': 43.99, u'temperature': 30.55, u'precipAccumulation': 0.89, u'precipType': u'snow', u'humidity': 0.9, u'cloudCover': 0.97, u'summary': u'Heavy Snow and Windy', u'apparentTemperature': 17.27, u'pressure': 993.42, u'windSpeed': 22.92, u'windBearing': 5, u'visibility': 0.83, u'time': 1520956800, u'icon': u'snow', u'precipIntensity': 0.1045, u'uvIndex': 2, u'dewPoint': 28.01, u'precipProbability': 0.49}, {u'ozone': 407.64, u'windGust': 41.85, u'temperature': 30.38, u'precipAccumulation': 0.77, u'precipType': u'snow', u'humidity': 0.88, u'cloudCover': 1, u'summary': u'Heavy Snow and Windy', u'apparentTemperature': 17.2, u'pressure': 992.68, u'windSpeed': 22.39, u'windBearing': 357, u'visibility': 1.21, u'time': 1520960400, u'icon': u'snow', u'precipIntensity': 0.0894, u'uvIndex': 2, u'dewPoint': 27.25, u'precipProbability': 0.45}, {u'ozone': 405.58, u'windGust': 40.3, u'temperature': 30.41, u'precipAccumulation': 0.699, u'precipType': u'snow', u'humidity': 0.86, u'cloudCover': 1, u'summary': u'Heavy Snow and Windy', u'apparentTemperature': 17.48, u'pressure': 992.31, u'windSpeed': 21.44, u'windBearing': 349, u'visibility': 1.16, u'time': 1520964000, u'icon': u'snow', u'precipIntensity': 0.0813, u'uvIndex': 2, u'dewPoint': 26.79, u'precipProbability': 0.42}, {u'ozone': 403.29, u'windGust': 39.31, u'temperature': 30.6, u'precipAccumulation': 0.605, u'precipType': u'snow', u'humidity': 0.86, u'cloudCover': 1, u'summary': u'Heavy Snow and Windy', u'apparentTemperature': 17.92, u'pressure': 992.35, u'windSpeed': 20.77, u'windBearing': 343, u'visibility': 1.05, u'time': 1520967600, u'icon': u'snow', u'precipIntensity': 0.0713, u'uvIndex': 1, u'dewPoint': 26.89, u'precipProbability': 0.4}, {u'ozone': 400.95, u'windGust': 38.36, u'temperature': 30.96, u'precipAccumulation': 0.512, u'precipType': u'snow', u'humidity': 0.86, u'cloudCover': 1, u'summary': u'Snow', u'apparentTemperature': 18.58, u'pressure': 992.64, u'windSpeed': 20.14, u'windBearing': 338, u'visibility': 0.92, u'time': 1520971200, u'icon': u'snow', u'precipIntensity': 0.062, u'uvIndex': 1, u'dewPoint': 27.39, u'precipProbability': 0.38}, {u'ozone': 400.51, u'windGust': 36.9, u'temperature': 31.4, u'precipAccumulation': 0.416, u'precipType': u'snow', u'humidity': 0.86, u'cloudCover': 1, u'summary': u'Snow', u'apparentTemperature': 19.39, u'pressure': 992.94, u'windSpeed': 19.32, u'windBearing': 331, u'visibility': 0.8, u'time': 1520974800, u'icon': u'snow', u'precipIntensity': 0.0521, u'uvIndex': 0, u'dewPoint': 27.81, u'precipProbability': 0.37}, {u'ozone': 403.13, u'windGust': 34.41, u'temperature': 32.02, u'precipAccumulation': 0.278, u'precipType': u'snow', u'humidity': 0.85, u'cloudCover': 1, u'summary': u'Snow', u'apparentTemperature': 20.57, u'pressure': 993.21, u'windSpeed': 18.1, u'windBearing': 325, u'visibility': 0.71, u'time': 1520978400, u'icon': u'snow', u'precipIntensity': 0.0364, u'uvIndex': 0, u'dewPoint': 27.97, u'precipProbability': 0.33}, {u'ozone': 407.62, u'windGust': 31.36, u'temperature': 32.65, u'precipAccumulation': 0.165, u'precipType': u'snow', u'humidity': 0.83, u'cloudCover': 1, u'summary': u'Snow', u'apparentTemperature': 21.85, u'pressure': 993.5, u'windSpeed': 16.65, u'windBearing': 319, u'visibility': 0.62, u'time': 1520982000, u'icon': u'snow', u'precipIntensity': 0.0218, u'uvIndex': 0, u'dewPoint': 28.03, u'precipProbability': 0.28}, {u'ozone': 411.98, u'windGust': 28.52, u'temperature': 33.22, u'precipAccumulation': 0.106, u'precipType': u'snow', u'humidity': 0.81, u'cloudCover': 1, u'summary': u'Possible Light Snow', u'apparentTemperature': 23.05, u'pressure': 993.81, u'windSpeed': 15.27, u'windBearing': 314, u'visibility': 0.53, u'time': 1520985600, u'icon': u'snow', u'precipIntensity': 0.0139, u'uvIndex': 0, u'dewPoint': 28.08, u'precipProbability': 0.24}, {u'ozone': 415.35, u'windGust': 25.88, u'temperature': 33.57, u'precipAccumulation': 0.086, u'precipType': u'snow', u'humidity': 0.81, u'cloudCover': 1, u'summary': u'Possible Light Snow', u'apparentTemperature': 23.96, u'pressure': 994.22, u'windSpeed': 14.02, u'windBearing': 306, u'visibility': 0.31, u'time': 1520989200, u'icon': u'snow', u'precipIntensity': 0.0113, u'uvIndex': 0, u'dewPoint': 28.31, u'precipProbability': 0.23}, {u'ozone': 418.59, u'windGust': 23.44, u'temperature': 33.63, u'precipAccumulation': 0.086, u'precipType': u'snow', u'humidity': 0.81, u'cloudCover': 1, u'summary': u'Possible Light Snow', u'apparentTemperature': 24.47, u'pressure': 994.63, u'windSpeed': 12.87, u'windBearing': 299, u'visibility': 0.11, u'time': 1520992800, u'icon': u'snow', u'precipIntensity': 0.0113, u'uvIndex': 0, u'dewPoint': 28.58, u'precipProbability': 0.24}, {u'ozone': 422.71, u'windGust': 21.94, u'temperature': 33.49, u'precipAccumulation': 0.085, u'precipType': u'snow', u'humidity': 0.82, u'cloudCover': 1, u'summary': u'Possible Light Snow', u'apparentTemperature': 24.62, u'pressure': 994.92, u'windSpeed': 12.09, u'windBearing': 297, u'visibility': 0.18, u'time': 1520996400, u'icon': u'snow', u'precipIntensity': 0.0112, u'uvIndex': 0, u'dewPoint': 28.67, u'precipProbability': 0.24}, {u'ozone': 428.09, u'windGust': 21.87, u'temperature': 33.19, u'precipAccumulation': 0.073, u'precipType': u'snow', u'humidity': 0.83, u'cloudCover': 1, u'summary': u'Foggy', u'apparentTemperature': 24.39, u'pressure': 994.99, u'windSpeed': 11.76, u'windBearing': 287, u'visibility': 0.4, u'time': 1521000000, u'icon': u'fog', u'precipIntensity': 0.0096, u'uvIndex': 0, u'dewPoint': 28.6, u'precipProbability': 0.22}, {u'ozone': 434.35, u'windGust': 22.68, u'temperature': 32.86, u'precipAccumulation': 0.062, u'precipType': u'snow', u'humidity': 0.83, u'cloudCover': 1, u'summary': u'Foggy', u'apparentTemperature': 23.97, u'pressure': 994.93, u'windSpeed': 11.76, u'windBearing': 261, u'visibility': 0.91, u'time': 1521003600, u'icon': u'fog', u'precipIntensity': 0.0082, u'uvIndex': 0, u'dewPoint': 28.37, u'precipProbability': 0.19}, {u'ozone': 441.31, u'windGust': 23.59, u'temperature': 32.34, u'precipAccumulation': 0.05, u'precipType': u'snow', u'humidity': 0.83, u'cloudCover': 1, u'summary': u'Overcast', u'apparentTemperature': 23.27, u'pressure': 994.86, u'windSpeed': 11.85, u'windBearing': 274, u'visibility': 2.56, u'time': 1521007200, u'icon': u'cloudy', u'precipIntensity': 0.0066, u'uvIndex': 0, u'dewPoint': 27.78, u'precipProbability': 0.15}, {u'ozone': 449.38, u'windGust': 24.39, u'temperature': 31.44, u'precipAccumulation': 0.028, u'precipType': u'snow', u'humidity': 0.82, u'cloudCover': 0.86, u'summary': u'Mostly Cloudy', u'apparentTemperature': 22.18, u'pressure': 994.77, u'windSpeed': 11.77, u'windBearing': 6, u'visibility': 6.47, u'time': 1521010800, u'icon': u'partly-cloudy-night', u'precipIntensity': 0.0035, u'uvIndex': 0, u'dewPoint': 26.47, u'precipProbability': 0.09}, {u'ozone': 458.13, u'windGust': 25.27, u'temperature': 30.19, u'precipAccumulation': 0.009, u'precipType': u'snow', u'humidity': 0.8, u'cloudCover': 0.66, u'summary': u'Mostly Cloudy', u'apparentTemperature': 20.57, u'pressure': 994.67, u'windSpeed': 11.87, u'windBearing': 166, u'visibility': 10, u'time': 1521014400, u'icon': u'partly-cloudy-night', u'precipIntensity': 0.001, u'uvIndex': 0, u'dewPoint': 24.79, u'precipProbability': 0.05}, {u'ozone': 466.15, u'windGust': 26.06, u'temperature': 29.48, u'precipAccumulation': 0, u'precipType': u'snow', u'humidity': 0.79, u'cloudCover': 0.51, u'summary': u'Partly Cloudy', u'apparentTemperature': 19.6, u'pressure': 994.69, u'windSpeed': 12.02, u'windBearing': 258, u'visibility': 10, u'time': 1521018000, u'icon': u'partly-cloudy-night', u'precipIntensity': 0.0002, u'uvIndex': 0, u'dewPoint': 23.69, u'precipProbability': 0.03}, {u'ozone': 473.28, u'windGust': 26.72, u'temperature': 29.5, u'precipAccumulation': 0, u'precipType': u'snow', u'humidity': 0.78, u'cloudCover': 0.39, u'summary': u'Partly Cloudy', u'apparentTemperature': 19.56, u'pressure': 994.95, u'windSpeed': 12.17, u'windBearing': 267, u'visibility': 10, u'time': 1521021600, u'icon': u'partly-cloudy-night', u'precipIntensity': 0.0001, u'uvIndex': 0, u'dewPoint': 23.43, u'precipProbability': 0.03}, {u'ozone': 479.73, u'windGust': 27.3, u'temperature': 30.11, u'precipAccumulation': 0, u'precipType': u'snow', u'humidity': 0.76, u'cloudCover': 0.27, u'summary': u'Partly Cloudy', u'apparentTemperature': 20.22, u'pressure': 995.33, u'windSpeed': 12.42, u'windBearing': 260, u'visibility': 10, u'time': 1521025200, u'icon': u'partly-cloudy-night', u'precipIntensity': 0.0001, u'uvIndex': 0, u'dewPoint': 23.57, u'precipProbability': 0.03}, {u'ozone': 484.02, u'windGust': 27.59, u'temperature': 30.9, u'precipAccumulation': 0, u'precipType': u'snow', u'humidity': 0.75, u'cloudCover': 0.21, u'summary': u'Clear', u'apparentTemperature': 21.02, u'pressure': 995.58, u'windSpeed': 12.87, u'windBearing': 246, u'visibility': 10, u'time': 1521028800, u'icon': u'clear-day', u'precipIntensity': 0.0002, u'uvIndex': 0, u'dewPoint': 24.08, u'precipProbability': 0.04}, {u'ozone': 485.53, u'windGust': 27.32, u'temperature': 32.02, u'precipAccumulation': 0, u'precipType': u'snow', u'humidity': 0.75, u'cloudCover': 0.27, u'summary': u'Partly Cloudy', u'apparentTemperature': 22.11, u'pressure': 995.59, u'windSpeed': 13.68, u'windBearing': 245, u'visibility': 10, u'time': 1521032400, u'icon': u'partly-cloudy-day', u'precipIntensity': 0.0002, u'uvIndex': 1, u'dewPoint': 25.12, u'precipProbability': 0.05}, {u'ozone': 485.07, u'windGust': 26.72, u'temperature': 33.33, u'precipAccumulation': 0, u'precipType': u'snow', u'humidity': 0.76, u'cloudCover': 0.4, u'summary': u'Partly Cloudy', u'apparentTemperature': 23.41, u'pressure': 995.46, u'windSpeed': 14.67, u'windBearing': 246, u'visibility': 10, u'time': 1521036000, u'icon': u'partly-cloudy-day', u'precipIntensity': 0.0002, u'uvIndex': 1, u'dewPoint': 26.6, u'precipProbability': 0.07}, {u'ozone': 483.66, u'windGust': 26.41, u'temperature': 34.49, u'precipAccumulation': 0, u'precipType': u'snow', u'humidity': 0.76, u'cloudCover': 0.5, u'summary': u'Partly Cloudy', u'apparentTemperature': 24.65, u'pressure': 995.33, u'windSpeed': 15.39, u'windBearing': 246, u'visibility': 10, u'time': 1521039600, u'icon': u'partly-cloudy-day', u'precipIntensity': 0.0003, u'uvIndex': 2, u'dewPoint': 27.87, u'precipProbability': 0.09}, {u'ozone': 481.03, u'windGust': 26.74, u'temperature': 35.61, u'precipAccumulation': 0, u'precipType': u'snow', u'humidity': 0.76, u'cloudCover': 0.59, u'summary': u'Partly Cloudy', u'apparentTemperature': 26.01, u'pressure': 995.17, u'windSpeed': 15.63, u'windBearing': 244, u'visibility': 10, u'time': 1521043200, u'icon': u'partly-cloudy-day', u'precipIntensity': 0.0004, u'uvIndex': 2, u'dewPoint': 28.65, u'precipProbability': 0.1}, {u'ozone': 477.62, u'windGust': 27.42, u'temperature': 36.93, u'precipAccumulation': 0.006, u'precipType': u'snow', u'humidity': 0.73, u'cloudCover': 0.69, u'summary': u'Mostly Cloudy', u'apparentTemperature': 27.7, u'pressure': 994.99, u'windSpeed': 15.65, u'windBearing': 241, u'visibility': 10, u'time': 1521046800, u'icon': u'partly-cloudy-day', u'precipIntensity': 0.0008, u'uvIndex': 2, u'dewPoint': 29.11, u'precipProbability': 0.12}, {u'ozone': 474.91, u'windGust': 27.96, u'temperature': 37.95, u'precipAccumulation': 0.009, u'precipType': u'snow', u'humidity': 0.71, u'cloudCover': 0.77, u'summary': u'Mostly Cloudy', u'apparentTemperature': 29.05, u'pressure': 994.94, u'windSpeed': 15.51, u'windBearing': 240, u'visibility': 10, u'time': 1521050400, u'icon': u'partly-cloudy-day', u'precipIntensity': 0.0012, u'uvIndex': 2, u'dewPoint': 29.33, u'precipProbability': 0.14}, {u'ozone': 474.07, u'windGust': 28.19, u'temperature': 38.2, u'precipAccumulation': 0.009, u'precipType': u'snow', u'humidity': 0.7, u'cloudCover': 0.82, u'summary': u'Mostly Cloudy', u'apparentTemperature': 29.43, u'pressure': 995.11, u'windSpeed': 15.32, u'windBearing': 240, u'visibility': 10, u'time': 1521054000, u'icon': u'partly-cloudy-day', u'precipIntensity': 0.0012, u'uvIndex': 1, u'dewPoint': 29.26, u'precipProbability': 0.14}, {u'ozone': 473.95, u'windGust': 28.34, u'temperature': 37.62, u'precipAccumulation': 0.009, u'precipType': u'snow', u'humidity': 0.7, u'cloudCover': 0.86, u'summary': u'Mostly Cloudy', u'apparentTemperature': 28.77, u'pressure': 995.41, u'windSpeed': 15.03, u'windBearing': 240, u'visibility': 10, u'time': 1521057600, u'icon': u'partly-cloudy-day', u'precipIntensity': 0.0011, u'uvIndex': 1, u'dewPoint': 28.9, u'precipProbability': 0.13}, {u'ozone': 473.87, u'windGust': 28.47, u'temperature': 36.54, u'precipAccumulation': 0.008, u'precipType': u'snow', u'humidity': 0.72, u'cloudCover': 0.89, u'summary': u'Mostly Cloudy', u'apparentTemperature': 27.54, u'pressure': 995.76, u'windSpeed': 14.61, u'windBearing': 240, u'visibility': 10, u'time': 1521061200, u'icon': u'partly-cloudy-day', u'precipIntensity': 0.0011, u'uvIndex': 0, u'dewPoint': 28.37, u'precipProbability': 0.12}, {u'ozone': 473.47, u'windGust': 28.5, u'temperature': 35.42, u'precipAccumulation': 0.005, u'precipType': u'snow', u'humidity': 0.73, u'cloudCover': 0.79, u'summary': u'Mostly Cloudy', u'apparentTemperature': 26.36, u'pressure': 996.19, u'windSpeed': 13.88, u'windBearing': 240, u'visibility': 10, u'time': 1521064800, u'icon': u'partly-cloudy-day', u'precipIntensity': 0.0007, u'uvIndex': 0, u'dewPoint': 27.6, u'precipProbability': 0.1}, {u'ozone': 473.03, u'windGust': 28.41, u'temperature': 34.49, u'precipAccumulation': 0, u'precipType': u'snow', u'humidity': 0.73, u'cloudCover': 0.64, u'summary': u'Mostly Cloudy', u'apparentTemperature': 25.51, u'pressure': 996.66, u'windSpeed': 13, u'windBearing': 241, u'visibility': 10, u'time': 1521068400, u'icon': u'partly-cloudy-night', u'precipIntensity': 0.0002, u'uvIndex': 0, u'dewPoint': 26.63, u'precipProbability': 0.07}, {u'ozone': 472.63, u'windGust': 28.23, u'temperature': 33.76, u'precipAccumulation': 0, u'precipType': u'snow', u'humidity': 0.72, u'cloudCover': 0.54, u'summary': u'Partly Cloudy', u'apparentTemperature': 24.85, u'pressure': 996.96, u'windSpeed': 12.37, u'windBearing': 243, u'visibility': 10, u'time': 1521072000, u'icon': u'partly-cloudy-night', u'precipIntensity': 0.0001, u'uvIndex': 0, u'dewPoint': 25.8, u'precipProbability': 0.03}, {u'ozone': 472.38, u'windGust': 27.97, u'temperature': 33.17, u'icon': u'partly-cloudy-night', u'dewPoint': 25.21, u'humidity': 0.72, u'cloudCover': 0.54, u'summary': u'Partly Cloudy', u'apparentTemperature': 24.2, u'pressure': 996.96, u'windSpeed': 12.11, u'visibility': 10, u'time': 1521075600, u'windBearing': 246, u'precipIntensity': 0, u'uvIndex': 0, u'precipProbability': 0}, {u'ozone': 472.15, u'windGust': 27.64, u'temperature': 32.48, u'icon': u'partly-cloudy-night', u'dewPoint': 24.82, u'humidity': 0.73, u'cloudCover': 0.6, u'summary': u'Mostly Cloudy', u'apparentTemperature': 23.36, u'pressure': 996.79, u'windSpeed': 12.04, u'visibility': 10, u'time': 1521079200, u'windBearing': 249, u'precipIntensity': 0, u'uvIndex': 0, u'precipProbability': 0}, {u'ozone': 471.85, u'windGust': 27.44, u'temperature': 31.82, u'precipAccumulation': 0, u'precipType': u'snow', u'humidity': 0.74, u'cloudCover': 0.65, u'summary': u'Mostly Cloudy', u'apparentTemperature': 22.55, u'pressure': 996.64, u'windSpeed': 12.02, u'windBearing': 251, u'visibility': 10, u'time': 1521082800, u'icon': u'partly-cloudy-night', u'precipIntensity': 0.0001, u'uvIndex': 0, u'dewPoint': 24.57, u'precipProbability': 0.01}], u'summary': u'Snow (8\\u201312 in.) starting later tonight and windy starting tomorrow morning, continuing until tomorrow afternoon.'}, u'alerts': [{u'description': u'...WINTER STORM WARNING REMAINS IN EFFECT FROM 11 PM THIS EVENING TO 8 PM EDT TUESDAY... * WHAT...Heavy snow expected. Total snow accumulations of 10 to 18 inches, except 5 to 8 inches for Nantucket where a period of rain is expected. * WHERE...Western Essex MA, Southeast Middlesex MA, Suffolk MA, Eastern Norfolk MA and Nantucket MA Counties. * WHEN...From 11 PM this evening to 8 PM EDT Tuesday. * ADDITIONAL DETAILS...Near blizzard conditions possible with windy conditions resulting in blowing and drifting snow. Travel will be very difficult, especially during the Tuesday morning commute when snowfall rates of 1 to 3 inches per hour are possible. The Tuesday afternoon commute is also expected to be impacted.\\n', u'title': u'Winter Storm Warning', u'expires': 1520985600, u'uri': u'https://alerts.weather.gov/cap/wwacapget.php?x=MA125A98571D68.WinterStormWarning.125A98728A80MA.BOXWSWBOX.364904e8b39f27f00adb72d556fbba83', u'regions': [u'Eastern Norfolk', u'Nantucket', u'Southeast Middlesex', u'Suffolk', u'Western Essex'], u'time': 1520910000, u'severity': u'watch'}], u'currently': {u'ozone': 414.08, u'windGust': 15.97, u'temperature': 37.04, u'dewPoint': 29.81, u'nearestStormDistance': 11, u'humidity': 0.75, u'nearestStormBearing': 202, u'summary': u'Partly Cloudy', u'apparentTemperature': 29.7, u'pressure': 1011.56, u'windSpeed': 10.62, u'precipProbability': 0, u'visibility': 9.14, u'cloudCover': 0.38, u'time': 1520910894, u'windBearing': 59, u'precipIntensity': 0, u'uvIndex': 0, u'icon': u'partly-cloudy-night'}, u'longitude': -71.096946, u'flags': {u'units': u'us', u'sources': [u'isd', u'nearest-precip', u'nwspa', u'cmc', u'gfs', u'hrrr', u'madis', u'nam', u'sref', u'darksky'], u'isd-stations': [u'725059-14702', u'725059-99999', u'725088-54733', u'725088-99999', u'725090-14739', u'725097-14790', u'725098-54704', u'725098-99999', u'726054-99999', u'744900-14702', u'744907-14753', u'992420-99999', u'994971-99999', u'999999-14789', u'999999-14790', u'999999-94701']}, u'daily': {u'icon': u'snow', u'data': [{u'apparentTemperatureMinTime': 1520856000, u'apparentTemperatureLow': 22.39, u'temperatureLow': 34.41, u'precipIntensityMaxTime': 1520910000, u'temperatureMin': 27.27, u'temperatureHigh': 41.59, u'summary': u'Rain overnight.', u'dewPoint': 26.12, u'apparentTemperatureMax': 37.04, u'temperatureMax': 41.59, u'windSpeed': 4.53, u'apparentTemperatureHigh': 37.04, u'windGustTime': 1520910000, u'temperatureMaxTime': 1520884800, u'windBearing': 51, u'temperatureLowTime': 1520942400, u'moonPhase': 0.85, u'temperatureMinTime': 1520848800, u'windGust': 14.67, u'visibility': 9.6, u'sunsetTime': 1520894904, u'pressure': 1016.98, u'uvIndexTime': 1520874000, u'cloudCover': 0.22, u'apparentTemperatureLowTime': 1520942400, u'apparentTemperatureMin': 26.07, u'apparentTemperatureHighTime': 1520874000, u'precipIntensityMax': 0.0008, u'icon': u'rain', u'apparentTemperatureMaxTime': 1520874000, u'humidity': 0.68, u'ozone': 425.37, u'temperatureHighTime': 1520884800, u'time': 1520827200, u'precipIntensity': 0, u'uvIndex': 3, u'sunriseTime': 1520852547, u'precipProbability': 0}, {u'apparentTemperatureMinTime': 1520960400, u'precipType': u'snow', u'temperatureLow': 29.48, u'precipIntensityMaxTime': 1520946000, u'temperatureMin': 30.38, u'temperatureHigh': 35.1, u'summary': u'Snow (8\\u201312 in.) throughout the day and windy until afternoon.', u'dewPoint': 29.52, u'apparentTemperatureMax': 28.58, u'temperatureMax': 36.7, u'windSpeed': 14.91, u'apparentTemperatureHigh': 23.61, u'windGustTime': 1520953200, u'temperatureMaxTime': 1520913600, u'windBearing': 7, u'temperatureLowTime': 1521018000, u'moonPhase': 0.88, u'precipAccumulation': 10.447, u'temperatureMinTime': 1520960400, u'windGust': 44.8, u'apparentTemperatureLow': 19.56, u'sunsetTime': 1520981373, u'pressure': 997.2, u'uvIndexTime': 1520956800, u'cloudCover': 0.96, u'apparentTemperatureLowTime': 1521021600, u'apparentTemperatureMin': 17.2, u'apparentTemperatureHighTime': 1520938800, u'precipIntensityMax': 0.153, u'icon': u'snow', u'apparentTemperatureMaxTime': 1520913600, u'humidity': 0.86, u'ozone': 409.62, u'temperatureHighTime': 1520938800, u'visibility': 2.1, u'time': 1520913600, u'precipIntensity': 0.0678, u'uvIndex': 2, u'sunriseTime': 1520938844, u'precipProbability': 0.98}, {u'apparentTemperatureMinTime': 1521021600, u'precipType': u'snow', u'temperatureLow': 28.78, u'precipIntensityMaxTime': 1521000000, u'temperatureMin': 29.48, u'temperatureHigh': 38.2, u'summary': u'Mostly cloudy throughout the day.', u'dewPoint': 26.61, u'apparentTemperatureMax': 29.43, u'temperatureMax': 38.2, u'windSpeed': 11.9, u'apparentTemperatureHigh': 29.43, u'windGustTime': 1521064800, u'temperatureMaxTime': 1521054000, u'windBearing': 249, u'temperatureLowTime': 1521111600, u'moonPhase': 0.91, u'precipAccumulation': 0.282, u'temperatureMinTime': 1521018000, u'windGust': 28.5, u'apparentTemperatureLow': 18.71, u'sunsetTime': 1521067842, u'pressure': 995.53, u'uvIndexTime': 1521039600, u'cloudCover': 0.64, u'apparentTemperatureLowTime': 1521111600, u'apparentTemperatureMin': 19.56, u'apparentTemperatureHighTime': 1521054000, u'precipIntensityMax': 0.0096, u'icon': u'partly-cloudy-day', u'apparentTemperatureMaxTime': 1521054000, u'humidity': 0.76, u'ozone': 469.15, u'temperatureHighTime': 1521054000, u'visibility': 10, u'time': 1521000000, u'precipIntensity': 0.0015, u'uvIndex': 2, u'sunriseTime': 1521025140, u'precipProbability': 0.4}, {u'apparentTemperatureMinTime': 1521111600, u'precipType': u'snow', u'temperatureLow': 30.31, u'precipIntensityMaxTime': 1521097200, u'temperatureMin': 28.78, u'temperatureHigh': 39.41, u'summary': u'Partly cloudy throughout the day.', u'dewPoint': 24.99, u'apparentTemperatureMax': 31.86, u'temperatureMax': 39.41, u'windSpeed': 11.01, u'apparentTemperatureHigh': 31.86, u'windGustTime': 1521111600, u'temperatureMaxTime': 1521144000, u'windBearing': 263, u'temperatureLowTime': 1521201600, u'moonPhase': 0.94, u'precipAccumulation': 0.058, u'temperatureMinTime': 1521111600, u'windGust': 30.09, u'apparentTemperatureLow': 21.08, u'sunsetTime': 1521154311, u'pressure': 997.96, u'uvIndexTime': 1521126000, u'cloudCover': 0.53, u'apparentTemperatureLowTime': 1521201600, u'apparentTemperatureMin': 18.71, u'apparentTemperatureHighTime': 1521144000, u'precipIntensityMax': 0.001, u'icon': u'partly-cloudy-day', u'apparentTemperatureMaxTime': 1521144000, u'humidity': 0.71, u'ozone': 452.74, u'temperatureHighTime': 1521144000, u'visibility': 10, u'time': 1521086400, u'precipIntensity': 0.0004, u'uvIndex': 2, u'sunriseTime': 1521111436, u'precipProbability': 0.14}, {u'apparentTemperatureMinTime': 1521255600, u'precipType': u'snow', u'temperatureLow': 28.36, u'precipIntensityMaxTime': 1521244800, u'temperatureMin': 30.31, u'temperatureHigh': 36.39, u'summary': u'Mostly cloudy starting in the afternoon.', u'dewPoint': 19.51, u'apparentTemperatureMax': 27.94, u'temperatureMax': 36.39, u'windSpeed': 11.18, u'apparentTemperatureHigh': 27.94, u'windGustTime': 1521248400, u'temperatureMaxTime': 1521223200, u'windBearing': 304, u'temperatureLowTime': 1521280800, u'moonPhase': 0.97, u'precipAccumulation': 0.021, u'temperatureMinTime': 1521201600, u'windGust': 29.75, u'apparentTemperatureLow': 18.81, u'sunsetTime': 1521240779, u'pressure': 1004.55, u'uvIndexTime': 1521216000, u'cloudCover': 0.39, u'apparentTemperatureLowTime': 1521277200, u'apparentTemperatureMin': 20.91, u'apparentTemperatureHighTime': 1521223200, u'precipIntensityMax': 0.0004, u'icon': u'partly-cloudy-night', u'apparentTemperatureMaxTime': 1521223200, u'humidity': 0.58, u'ozone': 436.57, u'temperatureHighTime': 1521223200, u'visibility': 10, u'time': 1521172800, u'precipIntensity': 0.0001, u'uvIndex': 3, u'sunriseTime': 1521197731, u'precipProbability': 0.1}, {u'apparentTemperatureMinTime': 1521277200, u'apparentTemperatureLow': 21.57, u'temperatureLow': 27.87, u'precipIntensityMaxTime': 1521259200, u'temperatureMin': 28.36, u'temperatureHigh': 37.06, u'summary': u'Partly cloudy in the morning.', u'dewPoint': 13.47, u'apparentTemperatureMax': 30.45, u'temperatureMax': 37.06, u'windSpeed': 9.92, u'apparentTemperatureHigh': 30.45, u'windGustTime': 1521259200, u'temperatureMaxTime': 1521320400, u'windBearing': 311, u'temperatureLowTime': 1521363600, u'moonPhase': 0.01, u'temperatureMinTime': 1521280800, u'windGust': 29.46, u'sunsetTime': 1521327248, u'pressure': 1012.34, u'uvIndexTime': 1521306000, u'cloudCover': 0.21, u'apparentTemperatureLowTime': 1521363600, u'apparentTemperatureMin': 18.81, u'apparentTemperatureHighTime': 1521320400, u'precipIntensityMax': 0.0002, u'icon': u'partly-cloudy-night', u'apparentTemperatureMaxTime': 1521320400, u'humidity': 0.46, u'ozone': 427.68, u'temperatureHighTime': 1521320400, u'time': 1521259200, u'precipIntensity': 0, u'uvIndex': 4, u'sunriseTime': 1521284027, u'precipProbability': 0}, {u'apparentTemperatureMinTime': 1521363600, u'precipType': u'rain', u'temperatureLow': 36.04, u'precipIntensityMaxTime': 1521356400, u'temperatureMin': 27.87, u'temperatureHigh': 52.16, u'summary': u'Mostly cloudy until evening.', u'dewPoint': 27.83, u'apparentTemperatureMax': 52.16, u'temperatureMax': 52.16, u'windSpeed': 3.93, u'apparentTemperatureHigh': 52.16, u'windGustTime': 1521417600, u'temperatureMaxTime': 1521399600, u'windBearing': 291, u'temperatureLowTime': 1521460800, u'moonPhase': 0.04, u'temperatureMinTime': 1521363600, u'windGust': 27.15, u'apparentTemperatureLow': 31.92, u'sunsetTime': 1521413716, u'pressure': 1010.65, u'uvIndexTime': 1521388800, u'cloudCover': 0.53, u'apparentTemperatureLowTime': 1521460800, u'apparentTemperatureMin': 21.57, u'apparentTemperatureHighTime': 1521399600, u'precipIntensityMax': 0.0017, u'icon': u'partly-cloudy-day', u'apparentTemperatureMaxTime': 1521399600, u'humidity': 0.62, u'ozone': 411.87, u'temperatureHighTime': 1521399600, u'time': 1521345600, u'precipIntensity': 0.0004, u'uvIndex': 3, u'sunriseTime': 1521370322, u'precipProbability': 0.13}, {u'apparentTemperatureMinTime': 1521514800, u'precipType': u'rain', u'temperatureLow': 29.06, u'precipIntensityMaxTime': 1521439200, u'temperatureMin': 33, u'temperatureHigh': 51.39, u'summary': u'Partly cloudy starting in the evening.', u'dewPoint': 29.9, u'apparentTemperatureMax': 51.39, u'temperatureMax': 51.39, u'windSpeed': 5.21, u'apparentTemperatureHigh': 51.39, u'windGustTime': 1521446400, u'temperatureMaxTime': 1521486000, u'windBearing': 306, u'temperatureLowTime': 1521532800, u'moonPhase': 0.07, u'temperatureMinTime': 1521514800, u'windGust': 36.59, u'apparentTemperatureLow': 21.09, u'sunsetTime': 1521500184, u'pressure': 1007.94, u'uvIndexTime': 1521475200, u'cloudCover': 0.32, u'apparentTemperatureLowTime': 1521532800, u'apparentTemperatureMin': 25.99, u'apparentTemperatureHighTime': 1521486000, u'precipIntensityMax': 0.0002, u'icon': u'partly-cloudy-night', u'apparentTemperatureMaxTime': 1521486000, u'humidity': 0.65, u'ozone': 385.52, u'temperatureHighTime': 1521486000, u'time': 1521432000, u'precipIntensity': 0.0001, u'uvIndex': 4, u'sunriseTime': 1521456617, u'precipProbability': 0.06}], u'summary': u'Snow (9\\u201313 in.) tomorrow and Wednesday, with temperatures bottoming out at 36\\xb0F on Friday.'}, u'offset': -4, u'latitude': 42.346751, u'timezone': u'America/New_York', u'minutely': {u'icon': u'partly-cloudy-night', u'data': [{u'precipIntensity': 0, u'precipProbability': 0, u'time': 1520910840}, {u'precipIntensity': 0, u'precipProbability': 0, u'time': 1520910900}, {u'precipIntensity': 0, u'precipProbability': 0, u'time': 1520910960}, {u'precipIntensity': 0, u'precipProbability': 0, u'time': 1520911020}, {u'precipIntensity': 0, u'precipProbability': 0, u'time': 1520911080}, {u'precipIntensity': 0, u'precipProbability': 0, u'time': 1520911140}, {u'precipIntensity': 0, u'precipProbability': 0, u'time': 1520911200}, {u'precipIntensity': 0, u'precipProbability': 0, u'time': 1520911260}, {u'precipIntensity': 0, u'precipProbability': 0, u'time': 1520911320}, {u'precipIntensity': 0, u'precipProbability': 0, u'time': 1520911380}, {u'precipIntensity': 0, u'precipProbability': 0, u'time': 1520911440}, {u'precipIntensity': 0, u'precipProbability': 0, u'time': 1520911500}, {u'precipIntensity': 0, u'precipProbability': 0, u'time': 1520911560}, {u'precipIntensity': 0, u'precipProbability': 0, u'time': 1520911620}, {u'precipIntensity': 0, u'precipProbability': 0, u'time': 1520911680}, {u'precipIntensity': 0, u'precipProbability': 0, u'time': 1520911740}, {u'precipIntensity': 0, u'precipProbability': 0, u'time': 1520911800}, {u'precipIntensity': 0, u'precipProbability': 0, u'time': 1520911860}, {u'precipIntensity': 0, u'precipProbability': 0, u'time': 1520911920}, {u'precipIntensity': 0, u'precipProbability': 0, u'time': 1520911980}, {u'precipIntensity': 0, u'precipProbability': 0, u'time': 1520912040}, {u'precipIntensity': 0, u'precipProbability': 0, u'time': 1520912100}, {u'precipIntensity': 0, u'precipProbability': 0, u'time': 1520912160}, {u'precipIntensity': 0, u'precipProbability': 0, u'time': 1520912220}, {u'precipIntensity': 0, u'precipProbability': 0, u'time': 1520912280}, {u'precipIntensity': 0, u'precipProbability': 0, u'time': 1520912340}, {u'precipIntensity': 0, u'precipProbability': 0, u'time': 1520912400}, {u'precipIntensity': 0, u'precipProbability': 0, u'time': 1520912460}, {u'precipIntensity': 0, u'precipProbability': 0, u'time': 1520912520}, {u'precipIntensity': 0, u'precipProbability': 0, u'time': 1520912580}, {u'precipIntensity': 0, u'precipProbability': 0, u'time': 1520912640}, {u'precipIntensity': 0, u'precipProbability': 0, u'time': 1520912700}, {u'precipIntensity': 0, u'precipProbability': 0, u'time': 1520912760}, {u'precipIntensity': 0, u'precipProbability': 0, u'time': 1520912820}, {u'precipIntensity': 0, u'precipProbability': 0, u'time': 1520912880}, {u'precipIntensity': 0, u'precipProbability': 0, u'time': 1520912940}, {u'precipIntensity': 0, u'precipProbability': 0, u'time': 1520913000}, {u'precipIntensity': 0, u'precipProbability': 0, u'time': 1520913060}, {u'precipIntensity': 0, u'precipProbability': 0, u'time': 1520913120}, {u'precipIntensity': 0, u'precipProbability': 0, u'time': 1520913180}, {u'precipIntensity': 0, u'precipProbability': 0, u'time': 1520913240}, {u'precipIntensity': 0, u'precipProbability': 0, u'time': 1520913300}, {u'precipIntensity': 0, u'precipProbability': 0, u'time': 1520913360}, {u'precipIntensity': 0, u'precipProbability': 0, u'time': 1520913420}, {u'precipIntensity': 0, u'precipProbability': 0, u'time': 1520913480}, {u'precipIntensity': 0, u'precipProbability': 0, u'time': 1520913540}, {u'precipIntensity': 0, u'precipProbability': 0, u'time': 1520913600}, {u'precipIntensity': 0, u'precipProbability': 0, u'time': 1520913660}, {u'precipIntensity': 0, u'precipProbability': 0, u'time': 1520913720}, {u'precipIntensity': 0, u'precipProbability': 0, u'time': 1520913780}, {u'precipIntensity': 0, u'precipProbability': 0, u'time': 1520913840}, {u'precipIntensity': 0, u'precipProbability': 0, u'time': 1520913900}, {u'precipIntensity': 0, u'precipProbability': 0, u'time': 1520913960}, {u'precipIntensity': 0, u'precipProbability': 0, u'time': 1520914020}, {u'precipIntensity': 0, u'precipProbability': 0, u'time': 1520914080}, {u'precipIntensity': 0, u'precipProbability': 0, u'time': 1520914140}, {u'precipIntensity': 0, u'precipProbability': 0, u'time': 1520914200}, {u'precipIntensity': 0, u'precipProbability': 0, u'time': 1520914260}, {u'precipIntensity': 0, u'precipProbability': 0, u'time': 1520914320}, {u'precipIntensity': 0, u'precipProbability': 0, u'time': 1520914380}, {u'precipIntensity': 0, u'precipProbability': 0, u'time': 1520914440}], u'summary': u'Partly cloudy for the hour.'}}\n"
     ]
    }
   ],
   "source": [
    "fenway_lat='42.346751'\n",
    "fenway_lon='-71.096946'\n",
    "get_weather_at='https://api.darksky.net/forecast/bce5271ecd9d923205cf59888ead3a5b/'\\\n",
    "+fenway_lat+','+fenway_lon\n",
    "r=requests.get(get_weather_at)\n",
    "#('https://api.darksky.net/forecast/bce5271ecd9d923205cf59888ead3a5b/fenway_lat,\\\n",
    "#fenway_lon)\n",
    " \n",
    "print r.json()\n"
   ]
  },
  {
   "cell_type": "code",
   "execution_count": 45,
   "metadata": {},
   "outputs": [
    {
     "name": "stdout",
     "output_type": "stream",
     "text": [
      " Weather at Fenway\n",
      "\n",
      "{u'ozone': 414.12, u'windGust': 14.67, u'temperature': 37.15, u'icon': u'partly-cloudy-night', u'precipType': u'rain', u'humidity': 0.74, u'cloudCover': 0.31, u'summary': u'Partly Cloudy', u'apparentTemperature': 30.09, u'pressure': 1012.01, u'windSpeed': 10.06, u'visibility': 9.46, u'time': 1520910000, u'windBearing': 59, u'precipIntensity': 0.0008, u'uvIndex': 0, u'dewPoint': 29.63, u'precipProbability': 0.07} \n",
      "\n",
      "{u'ozone': 472.38, u'windGust': 27.97, u'temperature': 33.17, u'icon': u'partly-cloudy-night', u'dewPoint': 25.21, u'humidity': 0.72, u'cloudCover': 0.54, u'summary': u'Partly Cloudy', u'apparentTemperature': 24.2, u'pressure': 996.96, u'windSpeed': 12.11, u'visibility': 10, u'time': 1521075600, u'windBearing': 246, u'precipIntensity': 0, u'uvIndex': 0, u'precipProbability': 0} \n",
      "\n",
      "date, time, precip,intensity,temp, windbearing, wind speed\n",
      "414.12 2018-03-12 23:00:00 rain 0.0008 37.15 59 10.06\n",
      "413.97 2018-03-13 00:00:00 rain 0.0026 36.7 59 12.31\n",
      "414.34 2018-03-13 01:00:00 rain 0.0324 36.39 58 14.21\n",
      "414.05 2018-03-13 02:00:00 rain 0.0579 36.31 58 15.46\n",
      "412.17 2018-03-13 03:00:00 rain 0.0674 36.15 53 16.07\n",
      "409.63 2018-03-13 04:00:00 rain 0.0696 36.05 49 17.13\n",
      "407.79 2018-03-13 05:00:00 rain 0.085 35.73 45 18.36\n",
      "407.12 2018-03-13 06:00:00 snow 0.0945 35.47 40 19.84\n",
      "407.2 2018-03-13 07:00:00 snow 0.1095 35.1 37 21.72\n",
      "407.61 2018-03-13 08:00:00 snow 0.1161 34.41 32 22.93\n",
      "408.79 2018-03-13 09:00:00 snow 0.153 33.27 25 23.68\n",
      "410.32 2018-03-13 10:00:00 snow 0.152 31.94 18 23.87\n",
      "410.89 2018-03-13 11:00:00 snow 0.1205 31.08 12 23.56\n",
      "409.75 2018-03-13 12:00:00 snow 0.1045 30.55 5 22.92\n",
      "407.64 2018-03-13 13:00:00 snow 0.0894 30.38 357 22.39\n",
      "405.58 2018-03-13 14:00:00 snow 0.0813 30.41 349 21.44\n",
      "403.29 2018-03-13 15:00:00 snow 0.0713 30.6 343 20.77\n",
      "400.95 2018-03-13 16:00:00 snow 0.062 30.96 338 20.14\n",
      "400.51 2018-03-13 17:00:00 snow 0.0521 31.4 331 19.32\n",
      "403.13 2018-03-13 18:00:00 snow 0.0364 32.02 325 18.1\n",
      "407.62 2018-03-13 19:00:00 snow 0.0218 32.65 319 16.65\n",
      "411.98 2018-03-13 20:00:00 snow 0.0139 33.22 314 15.27\n",
      "415.35 2018-03-13 21:00:00 snow 0.0113 33.57 306 14.02\n",
      "418.59 2018-03-13 22:00:00 snow 0.0113 33.63 299 12.87\n",
      "422.71 2018-03-13 23:00:00 snow 0.0112 33.49 297 12.09\n",
      "428.09 2018-03-14 00:00:00 snow 0.0096 33.19 287 11.76\n",
      "434.35 2018-03-14 01:00:00 snow 0.0082 32.86 261 11.76\n",
      "441.31 2018-03-14 02:00:00 snow 0.0066 32.34 274 11.85\n",
      "449.38 2018-03-14 03:00:00 snow 0.0035 31.44 6 11.77\n",
      "458.13 2018-03-14 04:00:00 snow 0.001 30.19 166 11.87\n",
      "466.15 2018-03-14 05:00:00 snow 0.0002 29.48 258 12.02\n",
      "473.28 2018-03-14 06:00:00 snow 0.0001 29.5 267 12.17\n",
      "479.73 2018-03-14 07:00:00 snow 0.0001 30.11 260 12.42\n",
      "484.02 2018-03-14 08:00:00 snow 0.0002 30.9 246 12.87\n",
      "485.53 2018-03-14 09:00:00 snow 0.0002 32.02 245 13.68\n",
      "485.07 2018-03-14 10:00:00 snow 0.0002 33.33 246 14.67\n",
      "483.66 2018-03-14 11:00:00 snow 0.0003 34.49 246 15.39\n",
      "481.03 2018-03-14 12:00:00 snow 0.0004 35.61 244 15.63\n",
      "477.62 2018-03-14 13:00:00 snow 0.0008 36.93 241 15.65\n",
      "474.91 2018-03-14 14:00:00 snow 0.0012 37.95 240 15.51\n",
      "474.07 2018-03-14 15:00:00 snow 0.0012 38.2 240 15.32\n",
      "473.95 2018-03-14 16:00:00 snow 0.0011 37.62 240 15.03\n",
      "473.87 2018-03-14 17:00:00 snow 0.0011 36.54 240 14.61\n",
      "473.47 2018-03-14 18:00:00 snow 0.0007 35.42 240 13.88\n",
      "473.03 2018-03-14 19:00:00 snow 0.0002 34.49 241 13\n",
      "472.63 2018-03-14 20:00:00 snow 0.0001 33.76 243 12.37\n",
      "472.38 2018-03-14 21:00:00"
     ]
    },
    {
     "ename": "KeyError",
     "evalue": "'precipType'",
     "output_type": "error",
     "traceback": [
      "\u001b[1;31m---------------------------------------------------------------------------\u001b[0m",
      "\u001b[1;31mKeyError\u001b[0m                                  Traceback (most recent call last)",
      "\u001b[1;32m<ipython-input-45-a977995bcc0b>\u001b[0m in \u001b[0;36m<module>\u001b[1;34m()\u001b[0m\n\u001b[0;32m     11\u001b[0m \u001b[1;32mfor\u001b[0m \u001b[0mdat\u001b[0m \u001b[1;32min\u001b[0m \u001b[0md\u001b[0m\u001b[1;33m[\u001b[0m\u001b[1;34m'hourly'\u001b[0m\u001b[1;33m]\u001b[0m\u001b[1;33m[\u001b[0m\u001b[1;34m'data'\u001b[0m\u001b[1;33m]\u001b[0m\u001b[1;33m:\u001b[0m\u001b[1;33m\u001b[0m\u001b[0m\n\u001b[0;32m     12\u001b[0m     \u001b[0mstr_time\u001b[0m\u001b[1;33m=\u001b[0m \u001b[0mdatetime\u001b[0m\u001b[1;33m.\u001b[0m\u001b[0mdatetime\u001b[0m\u001b[1;33m.\u001b[0m\u001b[0mfromtimestamp\u001b[0m\u001b[1;33m(\u001b[0m\u001b[0mdat\u001b[0m\u001b[1;33m[\u001b[0m\u001b[1;34m'time'\u001b[0m\u001b[1;33m]\u001b[0m\u001b[1;33m)\u001b[0m\u001b[1;33m.\u001b[0m    \u001b[0mstrftime\u001b[0m\u001b[1;33m(\u001b[0m\u001b[1;34m'%Y-%m-%d %H:%M:%S'\u001b[0m\u001b[1;33m)\u001b[0m\u001b[1;33m\u001b[0m\u001b[0m\n\u001b[1;32m---> 13\u001b[1;33m     \u001b[1;32mprint\u001b[0m \u001b[0mdat\u001b[0m\u001b[1;33m[\u001b[0m\u001b[1;34m'ozone'\u001b[0m\u001b[1;33m]\u001b[0m\u001b[1;33m,\u001b[0m\u001b[0mstr_time\u001b[0m\u001b[1;33m,\u001b[0m\u001b[0mdat\u001b[0m\u001b[1;33m[\u001b[0m\u001b[1;34m'precipType'\u001b[0m\u001b[1;33m]\u001b[0m\u001b[1;33m,\u001b[0m\u001b[0mdat\u001b[0m\u001b[1;33m[\u001b[0m\u001b[1;34m'precipIntensity'\u001b[0m\u001b[1;33m]\u001b[0m\u001b[1;33m,\u001b[0m\u001b[0mdat\u001b[0m\u001b[1;33m[\u001b[0m\u001b[1;34m'temperature'\u001b[0m\u001b[1;33m]\u001b[0m\u001b[1;33m,\u001b[0m    \u001b[0mdat\u001b[0m\u001b[1;33m[\u001b[0m\u001b[1;34m'windBearing'\u001b[0m\u001b[1;33m]\u001b[0m\u001b[1;33m,\u001b[0m\u001b[0mdat\u001b[0m\u001b[1;33m[\u001b[0m\u001b[1;34m'windSpeed'\u001b[0m\u001b[1;33m]\u001b[0m\u001b[1;33m\u001b[0m\u001b[0m\n\u001b[0m",
      "\u001b[1;31mKeyError\u001b[0m: 'precipType'"
     ]
    }
   ],
   "source": [
    "print 'Weather at Fenway\\n'\n",
    "str_time= datetime.datetime.fromtimestamp(int(\"1284101485\")\n",
    "    ).strftime('%Y-%m-%d %H:%M:%S')\n",
    "d=r.json()\n",
    "print d['hourly']['data'][0],'\\n'\n",
    "\n",
    "print d['hourly']['data'][46],'\\n'\n",
    "\n",
    "\n",
    "print 'date, time, precip,intensity,temp, windbearing, wind speed'\n",
    "for dat in d['hourly']['data']:\n",
    "    str_time= datetime.datetime.fromtimestamp(dat['time']).\\\n",
    "    strftime('%Y-%m-%d %H:%M:%S')\n",
    "    print dat['ozone'],str_time,dat['precipType'],dat['precipIntensity'],dat['temperature'],\\\n",
    "    dat['windBearing'],dat['windSpeed']"
   ]
  },
  {
   "cell_type": "code",
   "execution_count": null,
   "metadata": {},
   "outputs": [],
   "source": [
    "yankee_lat= 40.829189\n",
    "yankee_lon=-73.926493"
   ]
  },
  {
   "cell_type": "code",
   "execution_count": 3,
   "metadata": {},
   "outputs": [],
   "source": [
    "import mlbgame"
   ]
  },
  {
   "cell_type": "code",
   "execution_count": 4,
   "metadata": {},
   "outputs": [
    {
     "name": "stdout",
     "output_type": "stream",
     "text": [
      "419\n",
      "<type 'str'>\n"
     ]
    }
   ],
   "source": [
    "\n",
    "month = mlbgame.games(2017,9)\n",
    "games = mlbgame.combine_games(month)\n",
    "september_game_ids=[]\n",
    "for game in games:\n",
    "    september_game_ids.append(game.game_id)\n",
    "print len(september_game_ids)\n",
    "print type(september_game_ids[0])"
   ]
  },
  {
   "cell_type": "code",
   "execution_count": 164,
   "metadata": {},
   "outputs": [
    {
     "name": "stdout",
     "output_type": "stream",
     "text": [
      "done month 5\n",
      "done month 6\n",
      "done month 7\n",
      "done month 8\n",
      "done month 9\n",
      "2074 <type 'str'>\n"
     ]
    }
   ],
   "source": [
    "# Generate a list of all game ids across MLB from MAY through\n",
    "# September.  Need more complicated filtering to get April and October\n",
    "\n",
    "yearly_game_ids=[]\n",
    "for month in [5,6,7,8,9]:\n",
    "    yearly_games = mlbgame.games(2017,month)\n",
    "    games = mlbgame.combine_games(yearly_games)\n",
    "    for game in games:\n",
    "        yearly_game_ids.append(game.game_id)\n",
    "    print 'done month',month\n",
    "print len(yearly_game_ids),type(yearly_game_ids[0])"
   ]
  },
  {
   "cell_type": "code",
   "execution_count": null,
   "metadata": {},
   "outputs": [],
   "source": []
  },
  {
   "cell_type": "code",
   "execution_count": 128,
   "metadata": {},
   "outputs": [
    {
     "name": "stdout",
     "output_type": "stream",
     "text": [
      "<type 'str'> 2017_09_01_phimlb_miamlb_1\n",
      "514917 Walk\n",
      "520471 Forceout\n",
      "656555 Strikeout\n",
      "571830 Single\n",
      "596748 Strikeout\n"
     ]
    }
   ],
   "source": [
    "\n",
    "# This will get the complete play by play info in something that needs to \n",
    "#be decoded but could be very useful.\n",
    "print type(september_game_ids[0]),september_game_ids[0]\n",
    "game1_id=september_game_ids[0]\n",
    "g2=mlbgame.game_events(game_id=game1_id)\n",
    "g3=g2[0]\n",
    "g4=mlbgame.data.get_game_events(game1_id)\n",
    "for i in g3.top:\n",
    "    print i.batter,i.event\n",
    "#########################print g4.geturl()\n",
    "#########################g4.readlines()"
   ]
  },
  {
   "cell_type": "code",
   "execution_count": 122,
   "metadata": {},
   "outputs": [
    {
     "name": "stdout",
     "output_type": "stream",
     "text": [
      "length of home_additional_batting: 13\n",
      "2017/09/01 7:10 0.25 400085 Suzuki, I 902 1 0\n",
      "2017/09/01 7:10 0.263 500743 Rojas 801 0 0\n",
      "2017/09/01 7:10 0.0 596071 Peters 900 2 0\n",
      "2017/09/01 7:10 0.263 449107 Aviles 800 3 0\n",
      "2017/09/01 7:10 0.276 592663 Realmuto 500 4 0\n",
      "2017/09/01 7:10 0.0 446899 Ziegler 903 0 0\n",
      "2017/09/01 7:10 0.307 542303 Ozuna 400 4 0\n",
      "2017/09/01 7:10 0.285 592885 Yelich 300 3 0\n",
      "2017/09/01 7:10 0.212 454560 Ellis 700 3 1\n",
      "2017/09/01 7:10 0.0 607457 Barraclough 901 0 0\n",
      "2017/09/01 7:10 0.288 519317 Stanton 200 2 0\n",
      "2017/09/01 7:10 0.333 605119 Anderson, B 600 3 1\n",
      "2017/09/01 7:10 0.301 543829 Gordon, D 100 4 2\n",
      "\n",
      "length of away_additional_batting: 15\n",
      "2017/09/01 7:10 ET ET 0.333 465753 Florimon 700 3 1\n",
      "2017/09/01 7:10 ET ET 0.0 593576 Neris 402 0 0\n",
      "2017/09/01 7:10 ET ET 0.198 571841 Kelly 901 1 0\n",
      "2017/09/01 7:10 ET ET 0.242 571830 Joseph, T 400 4 2\n",
      "2017/09/01 7:10 ET ET 0.254 520471 Galvis 200 4 1\n",
      "2017/09/01 7:10 ET ET 0.0 591693 Ramos, E 902 0 0\n",
      "2017/09/01 7:10 ET ET 0.27 608384 Williams, N 600 4 0\n",
      "2017/09/01 7:10 ET ET 0.167 433217 Blanco, A 904 1 0\n",
      "2017/09/01 7:10 ET ET 0.347 595751 Alfaro 800 4 1\n",
      "2017/09/01 7:10 ET ET 0.284 514917 Hernandez, C 100 3 0\n",
      "2017/09/01 7:10 ET ET 0.0 504379 Nicasio 401 0 0\n",
      "2017/09/01 7:10 ET ET 0.293 656555 Hoskins 300 3 0\n",
      "2017/09/01 7:10 ET ET 0.081 601713 Pivetta 900 2 0\n",
      "2017/09/01 7:10 ET ET 0.0 571948 Milner 903 0 0\n",
      "2017/09/01 7:10 ET ET 0.223 596748 Franco 500 4 1\n"
     ]
    }
   ],
   "source": [
    "stats1=mlbgame.player_stats(game1_id)\n",
    "print 'length of home_additional_batting:',len(stats1.home_additional_batting)\n",
    "p1=stats1.home_additional_batting[0]\n",
    "for p in stats1.home_additional_batting:\n",
    "    o=mlbgame.overview(game_id=game1_id)\n",
    "    print o.time_date,p.bis_avg,p.id,p.name,p.bat_order,p.ab,p.h\n",
    "\n",
    "print '\\nlength of away_additional_batting:',len(stats1.away_additional_batting)\n",
    "for p in stats1.away_additional_batting:\n",
    "    print o.time_date,o.away_time_zone,o.home_time_zone,p.bis_avg,p.id,p.name,p.bat_order,p.ab,p.h"
   ]
  },
  {
   "cell_type": "code",
   "execution_count": 135,
   "metadata": {},
   "outputs": [
    {
     "data": {
      "text/plain": [
       "1"
      ]
     },
     "execution_count": 135,
     "metadata": {},
     "output_type": "execute_result"
    }
   ],
   "source": [
    "o.game_nbr"
   ]
  },
  {
   "cell_type": "code",
   "execution_count": 147,
   "metadata": {},
   "outputs": [],
   "source": [
    "def calc_eff(ab,hits):\n",
    "    try:\n",
    "        return float(hits)/ab\n",
    "    except:\n",
    "        return np.nan"
   ]
  },
  {
   "cell_type": "code",
   "execution_count": 170,
   "metadata": {},
   "outputs": [
    {
     "name": "stdout",
     "output_type": "stream",
     "text": [
      "Issue with 2017_05_03_milmlb_slnmlb_1\n",
      "Issue with 2017_05_04_clemlb_detmlb_1\n",
      "Issue with 2017_05_07_lanmlb_sdnmlb_1\n",
      "Issue with 2017_05_10_minmlb_chamlb_1\n",
      "Issue with 2017_05_12_phimlb_wasmlb_1\n",
      "Issue with 2017_05_13_houmlb_nyamlb_1\n",
      "Issue with 2017_05_20_kcamlb_minmlb_1\n",
      "Issue with 2017_05_20_milmlb_chnmlb_1\n",
      "Issue with 2017_05_25_kcamlb_nyamlb_1\n",
      "Issue with 2017_05_25_cinmlb_clemlb_1\n",
      "Issue with 2017_05_26_detmlb_chamlb_2\n",
      "Issue with 2017_07_28_colmlb_wasmlb_1\n",
      "Issue with 2017_08_29_clemlb_nyamlb_1\n",
      "Issue with 2017_08_29_atlmlb_phimlb_1\n",
      "Issue with 2017_09_01_nynmlb_houmlb_1\n",
      "Issue with 2017_09_06_nyamlb_balmlb_1\n"
     ]
    }
   ],
   "source": [
    "batting_df=pd.DataFrame(columns=['game_id','date_time','park','park_id','team','hm_aw',\n",
    "                                 'player_name','player_id','bat_avg','bat_order',\n",
    "                                 'ab','hits','eff'])\n",
    "\n",
    "player_count=0  # doubles as artificial index for populating df,\n",
    "                # should be removed after establishing df\n",
    "    \n",
    "successful_games=[]\n",
    "num_players=[]\n",
    "issues=[]\n",
    "    \n",
    "#two_game_ids=[yearly_game_ids[0],yearly_game_ids[1]]\n",
    "\n",
    "for game in yearly_game_ids:\n",
    "#for game in two_game_ids:\n",
    "    \n",
    "    try:\n",
    "\n",
    "        stats1=mlbgame.player_stats(game)\n",
    "        o=mlbgame.overview(game_id=game)\n",
    "\n",
    "        hm_aw=1\n",
    "        for p in stats1.home_additional_batting:\n",
    "            batting_df.loc[player_count,'game_id']=game\n",
    "            batting_df.loc[player_count,'date_time']=o.time_date\n",
    "            batting_df.loc[player_count,'park']=o.venue\n",
    "            batting_df.loc[player_count,'park_id']=o.venue_id    \n",
    "            batting_df.loc[player_count,'team']=o.home_team_name\n",
    "            batting_df.loc[player_count,'hm_aw']=hm_aw\n",
    "            batting_df.loc[player_count,'player_name']=p.name_display_first_last\n",
    "            batting_df.loc[player_count,'player_id']=p.id\n",
    "            batting_df.loc[player_count,'bat_avg']=p.bis_avg\n",
    "            batting_df.loc[player_count,'bat_order']=p.bat_order\n",
    "            batting_df.loc[player_count,'ab']=p.ab\n",
    "            batting_df.loc[player_count,'hits']=p.h\n",
    "            player_count+=1\n",
    "\n",
    "        hm_aw=0\n",
    "        for p in stats1.away_additional_batting:\n",
    "            batting_df.loc[player_count,'game_id']=game\n",
    "            batting_df.loc[player_count,'date_time']=o.time_date\n",
    "            batting_df.loc[player_count,'park']=o.venue\n",
    "            batting_df.loc[player_count,'park_id']=o.venue_id\n",
    "            batting_df.loc[player_count,'team']=o.away_team_name\n",
    "            batting_df.loc[player_count,'hm_aw']=hm_aw\n",
    "            batting_df.loc[player_count,'player_name']=p.name_display_first_last\n",
    "            batting_df.loc[player_count,'player_id']=p.id\n",
    "            batting_df.loc[player_count,'bat_avg']=p.bis_avg\n",
    "            batting_df.loc[player_count,'bat_order']=p.bat_order\n",
    "            batting_df.loc[player_count,'ab']=p.ab\n",
    "            batting_df.loc[player_count,'hits']=p.h\n",
    "            player_count+=1\n",
    "        successful_games.append(game)\n",
    "        num_players.append(player_count)\n",
    "    \n",
    "    except:\n",
    "        print 'Issue with',game\n",
    "        issues.append(game)\n",
    "        \n",
    "batting_df['eff']=batting_df.apply((lambda x: calc_eff(x.ab,x.hits)),axis=1)"
   ]
  },
  {
   "cell_type": "code",
   "execution_count": 171,
   "metadata": {},
   "outputs": [
    {
     "name": "stdout",
     "output_type": "stream",
     "text": [
      "<class 'pandas.core.frame.DataFrame'>\n",
      "Int64Index: 59915 entries, 0 to 59914\n",
      "Data columns (total 13 columns):\n",
      "game_id        59915 non-null object\n",
      "date_time      59915 non-null object\n",
      "park           59915 non-null object\n",
      "park_id        59915 non-null object\n",
      "team           59915 non-null object\n",
      "hm_aw          59915 non-null object\n",
      "player_name    59915 non-null object\n",
      "player_id      59915 non-null object\n",
      "bat_avg        59915 non-null object\n",
      "bat_order      59915 non-null object\n",
      "ab             59915 non-null object\n",
      "hits           59915 non-null object\n",
      "eff            42655 non-null float64\n",
      "dtypes: float64(1), object(12)\n",
      "memory usage: 8.9+ MB\n"
     ]
    }
   ],
   "source": [
    "batting_df.info()"
   ]
  },
  {
   "cell_type": "code",
   "execution_count": 172,
   "metadata": {},
   "outputs": [
    {
     "name": "stdout",
     "output_type": "stream",
     "text": [
      "                      game_id        date_time           park park_id  \\\n",
      "0  2017_05_01_milmlb_slnmlb_1  2017/05/01 8:15  Busch Stadium    2889   \n",
      "1  2017_05_01_milmlb_slnmlb_1  2017/05/01 8:15  Busch Stadium    2889   \n",
      "2  2017_05_01_milmlb_slnmlb_1  2017/05/01 8:15  Busch Stadium    2889   \n",
      "3  2017_05_01_milmlb_slnmlb_1  2017/05/01 8:15  Busch Stadium    2889   \n",
      "4  2017_05_01_milmlb_slnmlb_1  2017/05/01 8:15  Busch Stadium    2889   \n",
      "\n",
      "        team hm_aw     player_name player_id bat_avg bat_order ab hits  eff  \n",
      "0  Cardinals     1      Matt Adams    571431   0.286       901  1    1  1.0  \n",
      "1  Cardinals     1   Seung Hwan Oh    493200       0       905  0    0  NaN  \n",
      "2  Cardinals     1   Yadier Molina    425877   0.263       600  5    1  0.2  \n",
      "3  Cardinals     1  Randal Grichuk    545341    0.25       700  5    2  0.4  \n",
      "4  Cardinals     1  Kevin Siegrist    543779       0       903  0    0  NaN  \n",
      "                          game_id        date_time                      park  \\\n",
      "59910  2017_09_30_seamlb_anamlb_1  2017/09/30 9:07  Angel Stadium of Anaheim   \n",
      "59911  2017_09_30_seamlb_anamlb_1  2017/09/30 9:07  Angel Stadium of Anaheim   \n",
      "59912  2017_09_30_seamlb_anamlb_1  2017/09/30 9:07  Angel Stadium of Anaheim   \n",
      "59913  2017_09_30_seamlb_anamlb_1  2017/09/30 9:07  Angel Stadium of Anaheim   \n",
      "59914  2017_09_30_seamlb_anamlb_1  2017/09/30 9:07  Angel Stadium of Anaheim   \n",
      "\n",
      "      park_id      team hm_aw    player_name player_id bat_avg bat_order ab  \\\n",
      "59910       1  Mariners     0  Andrew Albers    452027       1      1100  0   \n",
      "59911       1  Mariners     0   Emilio Pagan    641941       0      1103  0   \n",
      "59912       1  Mariners     0  Dan Altavilla    656186       0      1101  0   \n",
      "59913       1  Mariners     0    Kyle Seager    572122   0.251       500  4   \n",
      "59914       1  Mariners     0  Yonder Alonso    475174   0.267       600  4   \n",
      "\n",
      "      hits   eff  \n",
      "59910    0   NaN  \n",
      "59911    0   NaN  \n",
      "59912    0   NaN  \n",
      "59913    1  0.25  \n",
      "59914    2  0.50  \n"
     ]
    }
   ],
   "source": [
    "print batting_df.head(5)\n",
    "print batting_df.tail(5)"
   ]
  },
  {
   "cell_type": "code",
   "execution_count": 173,
   "metadata": {},
   "outputs": [],
   "source": [
    "batting_df.to_csv('batting_df.csv')"
   ]
  },
  {
   "cell_type": "code",
   "execution_count": 5,
   "metadata": {},
   "outputs": [],
   "source": [
    "batting_df=pd.read_csv('batting_df.csv')"
   ]
  },
  {
   "cell_type": "code",
   "execution_count": 6,
   "metadata": {},
   "outputs": [
    {
     "data": {
      "text/html": [
       "<div>\n",
       "<style scoped>\n",
       "    .dataframe tbody tr th:only-of-type {\n",
       "        vertical-align: middle;\n",
       "    }\n",
       "\n",
       "    .dataframe tbody tr th {\n",
       "        vertical-align: top;\n",
       "    }\n",
       "\n",
       "    .dataframe thead th {\n",
       "        text-align: right;\n",
       "    }\n",
       "</style>\n",
       "<table border=\"1\" class=\"dataframe\">\n",
       "  <thead>\n",
       "    <tr style=\"text-align: right;\">\n",
       "      <th></th>\n",
       "      <th>Unnamed: 0</th>\n",
       "      <th>park_id</th>\n",
       "      <th>hm_aw</th>\n",
       "      <th>player_id</th>\n",
       "      <th>bat_avg</th>\n",
       "      <th>bat_order</th>\n",
       "      <th>ab</th>\n",
       "      <th>hits</th>\n",
       "      <th>eff</th>\n",
       "    </tr>\n",
       "  </thead>\n",
       "  <tbody>\n",
       "    <tr>\n",
       "      <th>count</th>\n",
       "      <td>59915.000000</td>\n",
       "      <td>59915.000000</td>\n",
       "      <td>59915.000000</td>\n",
       "      <td>59915.000000</td>\n",
       "      <td>59915.000000</td>\n",
       "      <td>59915.000000</td>\n",
       "      <td>59915.000000</td>\n",
       "      <td>59915.000000</td>\n",
       "      <td>42655.000000</td>\n",
       "    </tr>\n",
       "    <tr>\n",
       "      <th>mean</th>\n",
       "      <td>29957.000000</td>\n",
       "      <td>1381.945623</td>\n",
       "      <td>0.503864</td>\n",
       "      <td>533455.454227</td>\n",
       "      <td>0.192743</td>\n",
       "      <td>641.694784</td>\n",
       "      <td>2.330034</td>\n",
       "      <td>0.597763</td>\n",
       "      <td>0.243838</td>\n",
       "    </tr>\n",
       "    <tr>\n",
       "      <th>std</th>\n",
       "      <td>17296.115026</td>\n",
       "      <td>1586.369431</td>\n",
       "      <td>0.499989</td>\n",
       "      <td>72665.483230</td>\n",
       "      <td>0.128287</td>\n",
       "      <td>317.537594</td>\n",
       "      <td>1.815890</td>\n",
       "      <td>0.841159</td>\n",
       "      <td>0.264732</td>\n",
       "    </tr>\n",
       "    <tr>\n",
       "      <th>min</th>\n",
       "      <td>0.000000</td>\n",
       "      <td>1.000000</td>\n",
       "      <td>0.000000</td>\n",
       "      <td>112526.000000</td>\n",
       "      <td>0.000000</td>\n",
       "      <td>100.000000</td>\n",
       "      <td>0.000000</td>\n",
       "      <td>0.000000</td>\n",
       "      <td>0.000000</td>\n",
       "    </tr>\n",
       "    <tr>\n",
       "      <th>25%</th>\n",
       "      <td>14978.500000</td>\n",
       "      <td>12.000000</td>\n",
       "      <td>0.000000</td>\n",
       "      <td>471083.000000</td>\n",
       "      <td>0.029500</td>\n",
       "      <td>400.000000</td>\n",
       "      <td>0.000000</td>\n",
       "      <td>0.000000</td>\n",
       "      <td>0.000000</td>\n",
       "    </tr>\n",
       "    <tr>\n",
       "      <th>50%</th>\n",
       "      <td>29957.000000</td>\n",
       "      <td>32.000000</td>\n",
       "      <td>1.000000</td>\n",
       "      <td>543272.000000</td>\n",
       "      <td>0.240000</td>\n",
       "      <td>700.000000</td>\n",
       "      <td>3.000000</td>\n",
       "      <td>0.000000</td>\n",
       "      <td>0.250000</td>\n",
       "    </tr>\n",
       "    <tr>\n",
       "      <th>75%</th>\n",
       "      <td>44935.500000</td>\n",
       "      <td>2681.000000</td>\n",
       "      <td>1.000000</td>\n",
       "      <td>593700.000000</td>\n",
       "      <td>0.276000</td>\n",
       "      <td>901.000000</td>\n",
       "      <td>4.000000</td>\n",
       "      <td>1.000000</td>\n",
       "      <td>0.400000</td>\n",
       "    </tr>\n",
       "    <tr>\n",
       "      <th>max</th>\n",
       "      <td>59914.000000</td>\n",
       "      <td>4705.000000</td>\n",
       "      <td>1.000000</td>\n",
       "      <td>669720.000000</td>\n",
       "      <td>1.000000</td>\n",
       "      <td>1111.000000</td>\n",
       "      <td>9.000000</td>\n",
       "      <td>5.000000</td>\n",
       "      <td>1.000000</td>\n",
       "    </tr>\n",
       "  </tbody>\n",
       "</table>\n",
       "</div>"
      ],
      "text/plain": [
       "         Unnamed: 0       park_id         hm_aw      player_id       bat_avg  \\\n",
       "count  59915.000000  59915.000000  59915.000000   59915.000000  59915.000000   \n",
       "mean   29957.000000   1381.945623      0.503864  533455.454227      0.192743   \n",
       "std    17296.115026   1586.369431      0.499989   72665.483230      0.128287   \n",
       "min        0.000000      1.000000      0.000000  112526.000000      0.000000   \n",
       "25%    14978.500000     12.000000      0.000000  471083.000000      0.029500   \n",
       "50%    29957.000000     32.000000      1.000000  543272.000000      0.240000   \n",
       "75%    44935.500000   2681.000000      1.000000  593700.000000      0.276000   \n",
       "max    59914.000000   4705.000000      1.000000  669720.000000      1.000000   \n",
       "\n",
       "          bat_order            ab          hits           eff  \n",
       "count  59915.000000  59915.000000  59915.000000  42655.000000  \n",
       "mean     641.694784      2.330034      0.597763      0.243838  \n",
       "std      317.537594      1.815890      0.841159      0.264732  \n",
       "min      100.000000      0.000000      0.000000      0.000000  \n",
       "25%      400.000000      0.000000      0.000000      0.000000  \n",
       "50%      700.000000      3.000000      0.000000      0.250000  \n",
       "75%      901.000000      4.000000      1.000000      0.400000  \n",
       "max     1111.000000      9.000000      5.000000      1.000000  "
      ]
     },
     "execution_count": 6,
     "metadata": {},
     "output_type": "execute_result"
    }
   ],
   "source": [
    "batting_df.describe()"
   ]
  },
  {
   "cell_type": "code",
   "execution_count": 175,
   "metadata": {},
   "outputs": [
    {
     "name": "stdout",
     "output_type": "stream",
     "text": [
      "['2017_05_03_milmlb_slnmlb_1', '2017_05_04_clemlb_detmlb_1', '2017_05_07_lanmlb_sdnmlb_1', '2017_05_10_minmlb_chamlb_1', '2017_05_12_phimlb_wasmlb_1', '2017_05_13_houmlb_nyamlb_1', '2017_05_20_kcamlb_minmlb_1', '2017_05_20_milmlb_chnmlb_1', '2017_05_25_kcamlb_nyamlb_1', '2017_05_25_cinmlb_clemlb_1', '2017_05_26_detmlb_chamlb_2', '2017_07_28_colmlb_wasmlb_1', '2017_08_29_clemlb_nyamlb_1', '2017_08_29_atlmlb_phimlb_1', '2017_09_01_nynmlb_houmlb_1', '2017_09_06_nyamlb_balmlb_1']\n"
     ]
    }
   ],
   "source": [
    "print issues"
   ]
  },
  {
   "cell_type": "code",
   "execution_count": 7,
   "metadata": {},
   "outputs": [
    {
     "data": {
      "text/html": [
       "<div>\n",
       "<style scoped>\n",
       "    .dataframe tbody tr th:only-of-type {\n",
       "        vertical-align: middle;\n",
       "    }\n",
       "\n",
       "    .dataframe tbody tr th {\n",
       "        vertical-align: top;\n",
       "    }\n",
       "\n",
       "    .dataframe thead th {\n",
       "        text-align: right;\n",
       "    }\n",
       "</style>\n",
       "<table border=\"1\" class=\"dataframe\">\n",
       "  <thead>\n",
       "    <tr style=\"text-align: right;\">\n",
       "      <th></th>\n",
       "      <th>Unnamed: 0</th>\n",
       "      <th>game_id</th>\n",
       "      <th>date_time</th>\n",
       "      <th>park</th>\n",
       "      <th>park_id</th>\n",
       "      <th>team</th>\n",
       "      <th>hm_aw</th>\n",
       "      <th>player_name</th>\n",
       "      <th>player_id</th>\n",
       "      <th>bat_avg</th>\n",
       "      <th>bat_order</th>\n",
       "      <th>ab</th>\n",
       "      <th>hits</th>\n",
       "      <th>eff</th>\n",
       "    </tr>\n",
       "  </thead>\n",
       "  <tbody>\n",
       "    <tr>\n",
       "      <th>713</th>\n",
       "      <td>713</td>\n",
       "      <td>2017_05_02_anamlb_seamlb_1</td>\n",
       "      <td>2017/05/02 10:10</td>\n",
       "      <td>Safeco Field</td>\n",
       "      <td>680</td>\n",
       "      <td>Angels</td>\n",
       "      <td>0</td>\n",
       "      <td>Mike Trout</td>\n",
       "      <td>545361</td>\n",
       "      <td>0.363</td>\n",
       "      <td>300</td>\n",
       "      <td>3</td>\n",
       "      <td>1</td>\n",
       "      <td>0.333333</td>\n",
       "    </tr>\n",
       "    <tr>\n",
       "      <th>837</th>\n",
       "      <td>837</td>\n",
       "      <td>2017_05_03_anamlb_seamlb_1</td>\n",
       "      <td>2017/05/03 10:10</td>\n",
       "      <td>Safeco Field</td>\n",
       "      <td>680</td>\n",
       "      <td>Angels</td>\n",
       "      <td>0</td>\n",
       "      <td>Mike Trout</td>\n",
       "      <td>545361</td>\n",
       "      <td>0.358</td>\n",
       "      <td>300</td>\n",
       "      <td>4</td>\n",
       "      <td>1</td>\n",
       "      <td>0.250000</td>\n",
       "    </tr>\n",
       "    <tr>\n",
       "      <th>1836</th>\n",
       "      <td>1836</td>\n",
       "      <td>2017_05_05_houmlb_anamlb_1</td>\n",
       "      <td>2017/05/05 10:07</td>\n",
       "      <td>Angel Stadium of Anaheim</td>\n",
       "      <td>1</td>\n",
       "      <td>Angels</td>\n",
       "      <td>1</td>\n",
       "      <td>Mike Trout</td>\n",
       "      <td>545361</td>\n",
       "      <td>0.355</td>\n",
       "      <td>300</td>\n",
       "      <td>4</td>\n",
       "      <td>1</td>\n",
       "      <td>0.250000</td>\n",
       "    </tr>\n",
       "    <tr>\n",
       "      <th>3987</th>\n",
       "      <td>3987</td>\n",
       "      <td>2017_05_11_detmlb_anamlb_1</td>\n",
       "      <td>2017/05/11 10:07</td>\n",
       "      <td>Angel Stadium of Anaheim</td>\n",
       "      <td>1</td>\n",
       "      <td>Angels</td>\n",
       "      <td>1</td>\n",
       "      <td>Mike Trout</td>\n",
       "      <td>545361</td>\n",
       "      <td>0.342</td>\n",
       "      <td>300</td>\n",
       "      <td>4</td>\n",
       "      <td>0</td>\n",
       "      <td>0.000000</td>\n",
       "    </tr>\n",
       "    <tr>\n",
       "      <th>4185</th>\n",
       "      <td>4185</td>\n",
       "      <td>2017_05_12_detmlb_anamlb_1</td>\n",
       "      <td>2017/05/12 10:07</td>\n",
       "      <td>Angel Stadium of Anaheim</td>\n",
       "      <td>1</td>\n",
       "      <td>Angels</td>\n",
       "      <td>1</td>\n",
       "      <td>Mike Trout</td>\n",
       "      <td>545361</td>\n",
       "      <td>0.336</td>\n",
       "      <td>200</td>\n",
       "      <td>5</td>\n",
       "      <td>1</td>\n",
       "      <td>0.200000</td>\n",
       "    </tr>\n",
       "  </tbody>\n",
       "</table>\n",
       "</div>"
      ],
      "text/plain": [
       "      Unnamed: 0                     game_id         date_time  \\\n",
       "713          713  2017_05_02_anamlb_seamlb_1  2017/05/02 10:10   \n",
       "837          837  2017_05_03_anamlb_seamlb_1  2017/05/03 10:10   \n",
       "1836        1836  2017_05_05_houmlb_anamlb_1  2017/05/05 10:07   \n",
       "3987        3987  2017_05_11_detmlb_anamlb_1  2017/05/11 10:07   \n",
       "4185        4185  2017_05_12_detmlb_anamlb_1  2017/05/12 10:07   \n",
       "\n",
       "                          park  park_id    team  hm_aw player_name  player_id  \\\n",
       "713               Safeco Field      680  Angels      0  Mike Trout     545361   \n",
       "837               Safeco Field      680  Angels      0  Mike Trout     545361   \n",
       "1836  Angel Stadium of Anaheim        1  Angels      1  Mike Trout     545361   \n",
       "3987  Angel Stadium of Anaheim        1  Angels      1  Mike Trout     545361   \n",
       "4185  Angel Stadium of Anaheim        1  Angels      1  Mike Trout     545361   \n",
       "\n",
       "      bat_avg  bat_order  ab  hits       eff  \n",
       "713     0.363        300   3     1  0.333333  \n",
       "837     0.358        300   4     1  0.250000  \n",
       "1836    0.355        300   4     1  0.250000  \n",
       "3987    0.342        300   4     0  0.000000  \n",
       "4185    0.336        200   5     1  0.200000  "
      ]
     },
     "execution_count": 7,
     "metadata": {},
     "output_type": "execute_result"
    }
   ],
   "source": [
    "trout=batting_df[batting_df['player_name']=='Mike Trout']\n",
    "trout.head()"
   ]
  },
  {
   "cell_type": "code",
   "execution_count": 8,
   "metadata": {},
   "outputs": [
    {
     "data": {
      "image/png": "[encoded data removed]",
      "text/plain": [
       "<matplotlib.figure.Figure at 0xde0ebe0>"
      ]
     },
     "metadata": {},
     "output_type": "display_data"
    },
    {
     "name": "stdout",
     "output_type": "stream",
     "text": [
      "\n",
      "Trout played in  86 games\n",
      "He had 301 at bats with 86 hits\n",
      "he got zero hits in 33.7 percent of his games\n"
     ]
    }
   ],
   "source": [
    "\n",
    "pile=plt.hist(trout.eff,bins=5)\n",
    "plt.close()\n",
    "pile1=np.array(5)\n",
    "pile1=pile[0]/trout.eff.count()\n",
    "plt.hist(trout.eff,bins=5,align='left')\n",
    "plt.xlim(-0.2,1.2)\n",
    "plt.show()\n",
    "plt.close()\n",
    "print ''\n",
    "print \"Trout played in \",trout.eff.count(),'games'\n",
    "print \"He had\",trout.ab.sum(),'at bats with',trout.hits.sum(),\"hits\"\n",
    "print \"he got zero hits in %3.1f percent of his games\"%(pile1[0]*100)"
   ]
  },
  {
   "cell_type": "code",
   "execution_count": 256,
   "metadata": {
    "scrolled": true
   },
   "outputs": [
    {
     "name": "stderr",
     "output_type": "stream",
     "text": [
      "C:\\Users\\bill_\\Anaconda2\\lib\\site-packages\\ipykernel_launcher.py:12: SettingWithCopyWarning: \n",
      "A value is trying to be set on a copy of a slice from a DataFrame\n",
      "\n",
      "See the caveats in the documentation: http://pandas.pydata.org/pandas-docs/stable/indexing.html#indexing-view-versus-copy\n",
      "  if sys.path[0] == '':\n"
     ]
    },
    {
     "name": "stdout",
     "output_type": "stream",
     "text": [
      "\n",
      "\n",
      "\n",
      "\n",
      "\n",
      "\n"
     ]
    },
    {
     "data": {
      "image/png": "[encoded data removed]",
      "text/plain": [
       "<matplotlib.figure.Figure at 0x13266710>"
      ]
     },
     "metadata": {},
     "output_type": "display_data"
    },
    {
     "name": "stdout",
     "output_type": "stream",
     "text": [
      "\n"
     ]
    }
   ],
   "source": [
    "plt.close()\n",
    "best_batters=['Jose Altuve','Charlie Blackmon','Daniel Murphy','Justin Turner',\n",
    "             'Joey Votto','Buster Posey']\n",
    "\n",
    "\n",
    "fig = plt.figure(figsize=(14,8))\n",
    "\n",
    "batter_count=1\n",
    "for b in best_batters:\n",
    "   \n",
    "    best_b=batting_df[batting_df['player_name']==b]\n",
    "    best_b.dropna(axis=0,inplace=True)\n",
    "\n",
    "    pile1=np.sum(best_b.hits==0)/float(best_b.hits.count())\n",
    "    \n",
    "    ax=plt.subplot(3,2,batter_count)\n",
    "    ax=plt.hist(best_b.eff,bins=5,align='left',)\n",
    "    \n",
    "    plt.xlim(-0.2,1.0)\n",
    "    tmp=int(pile1*1000)/10\n",
    "    xlab=b+\" no hits \"+str(tmp)+'% of games'\n",
    "    plt.xlabel(\"hits/ab\")\n",
    "    plt.ylabel(\"occurences\")\n",
    "    plt.ylim(0,50)\n",
    "    plt.title(xlab)    \n",
    "    batter_count+=1\n",
    "    plt.tight_layout()\n",
    "    print ''\n",
    "\n",
    "plt.savefig('Top 6 Batters.png')\n",
    "plt.show()\n",
    "plt.close()\n",
    "print ''\n",
    "    "
   ]
  },
  {
   "cell_type": "code",
   "execution_count": 247,
   "metadata": {},
   "outputs": [
    {
     "name": "stdout",
     "output_type": "stream",
     "text": [
      "28 0.21875\n",
      "count     128\n",
      "unique      5\n",
      "top         1\n",
      "freq       49\n",
      "Name: hits, dtype: int64\n"
     ]
    }
   ],
   "source": [
    "tmp=np.sum(best_b.hits==0)\n",
    "print tmp,float(tmp)/best_b.hits.count()\n",
    "print best_b.hits.describe()"
   ]
  }
 ],
 "metadata": {
  "kernelspec": {
   "display_name": "Python 2",
   "language": "python",
   "name": "python2"
  },
  "language_info": {
   "codemirror_mode": {
    "name": "ipython",
    "version": 2
   },
   "file_extension": ".py",
   "mimetype": "text/x-python",
   "name": "python",
   "nbconvert_exporter": "python",
   "pygments_lexer": "ipython2",
   "version": "2.7.14"
  }
 },
 "nbformat": 4,
 "nbformat_minor": 2
}
