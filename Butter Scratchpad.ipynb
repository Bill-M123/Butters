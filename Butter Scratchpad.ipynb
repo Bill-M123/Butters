{
 "cells": [
  {
   "cell_type": "code",
   "execution_count": 69,
   "metadata": {},
   "outputs": [],
   "source": [
    "import json\n",
    "import numpy as np\n",
    "import matplotlib.pyplot as plt\n",
    "import pandas as pd\n",
    "import requests\n",
    "import datetime\n",
    "import mlbgame\n",
    "import seaborn as sns\n",
    "\n",
    "best_batters=['Jose Altuve','Charlie Blackmon','Daniel Murphy','Justin Turner',\n",
    "             'Joey Votto','Buster Posey']"
   ]
  },
  {
   "cell_type": "code",
   "execution_count": 1,
   "metadata": {},
   "outputs": [],
   "source": [
    "#  Uncomment this if you want to read and print the mlbstadium data from github.  Note:  GPS coordinates =\n",
    "#  front door, not home plate.\n",
    "\n",
    "#with open(\"C:\\\\Users\\\\bill_\\\\Desktop\\\\mlb_stadium.json\") as json_data:\n",
    "#  d = json.load(json_data)\n",
    "\n",
    "#print d[0].keys()\n",
    "#for team in d:\n",
    "#    print team['team'],team['address'],team['lat'],team['lng']\n"
   ]
  },
  {
   "cell_type": "code",
   "execution_count": 7,
   "metadata": {},
   "outputs": [],
   "source": [
    "#Dark Skies weather pull for Fenway.  Present time assumed (I think)\n",
    "\n",
    "fenway_lat='42.346751'\n",
    "fenway_lon='-71.096946'\n",
    "get_weather_at='https://api.darksky.net/forecast/bce5271ecd9d923205cf59888ead3a5b/'\\\n",
    "+fenway_lat+','+fenway_lon\n",
    "r=requests.get(get_weather_at)\n",
    "#('https://api.darksky.net/forecast/bce5271ecd9d923205cf59888ead3a5b/fenway_lat,\\\n",
    "#fenway_lon)\n",
    "\n",
    "\n",
    "\n",
    "#  Uncomment and run to look at json for Fenway\n",
    "#print r.json()\n"
   ]
  },
  {
   "cell_type": "code",
   "execution_count": 5,
   "metadata": {},
   "outputs": [
    {
     "name": "stdout",
     "output_type": "stream",
     "text": [
      "Weather at Fenway\n",
      "\n",
      "{u'ozone': 435.36, u'windGust': 12.88, u'temperature': 31.57, u'icon': u'clear-day', u'dewPoint': 17.83, u'humidity': 0.56, u'cloudCover': 0.08, u'summary': u'Clear', u'apparentTemperature': 24.3, u'pressure': 1000.6, u'windSpeed': 8.04, u'visibility': 10, u'time': 1521205200, u'windBearing': 284, u'precipIntensity': 0, u'uvIndex': 1, u'precipProbability': 0} \n",
      "\n",
      "date, time, precip,intensity,temp, windbearing, wind speed\n"
     ]
    }
   ],
   "source": [
    "print 'Weather at Fenway\\n'\n",
    "str_time= datetime.datetime.fromtimestamp(int(\"1284101485\")\n",
    "    ).strftime('%Y-%m-%d %H:%M:%S')\n",
    "d=r.json()\n",
    "\n",
    "# First hour in returned weather\n",
    "print d['hourly']['data'][0],'\\n'\n",
    "\n",
    "#print d['hourly']['data'][46],'\\n'\n",
    "\n",
    "\n",
    "print 'date, time, precip,intensity,temp, windbearing, wind speed'\n",
    "\n",
    "#print all hourly data until fail.  Note need to trap for missing data\n",
    "#for dat in d['hourly']['data']:\n",
    "#    str_time= datetime.datetime.fromtimestamp(dat['time']).\\\n",
    "#    strftime('%Y-%m-%d %H:%M:%S')\n",
    "#    print dat['ozone'],str_time,dat['precipType'],dat['precipIntensity'],dat['temperature'],\\\n",
    "#    dat['windBearing'],dat['windSpeed']"
   ]
  },
  {
   "cell_type": "code",
   "execution_count": null,
   "metadata": {},
   "outputs": [],
   "source": [
    "yankee_lat= 40.829189\n",
    "yankee_lon=-73.926493"
   ]
  },
  {
   "cell_type": "code",
   "execution_count": 3,
   "metadata": {},
   "outputs": [],
   "source": []
  },
  {
   "cell_type": "code",
   "execution_count": 4,
   "metadata": {},
   "outputs": [
    {
     "name": "stdout",
     "output_type": "stream",
     "text": [
      "419\n",
      "<type 'str'>\n"
     ]
    }
   ],
   "source": [
    "#  Grabs one game from mlbgame\n",
    "month = mlbgame.games(2017,9)\n",
    "games = mlbgame.combine_games(month)\n",
    "september_game_ids=[]\n",
    "for game in games:\n",
    "    september_game_ids.append(game.game_id)\n",
    "print len(september_game_ids)\n",
    "print type(september_game_ids[0])"
   ]
  },
  {
   "cell_type": "code",
   "execution_count": 164,
   "metadata": {},
   "outputs": [
    {
     "name": "stdout",
     "output_type": "stream",
     "text": [
      "done month 5\n",
      "done month 6\n",
      "done month 7\n",
      "done month 8\n",
      "done month 9\n",
      "2074 <type 'str'>\n"
     ]
    }
   ],
   "source": [
    "# Generate a list of all game ids across MLB from MAY through\n",
    "# September.  Need more complicated filtering to get April and October\n",
    "\n",
    "#  Note this only captures the game ids that you will need later.\n",
    "\n",
    "yearly_game_ids=[]\n",
    "for month in [5,6,7,8,9]:\n",
    "    yearly_games = mlbgame.games(2017,month)\n",
    "    games = mlbgame.combine_games(yearly_games)\n",
    "    for game in games:\n",
    "        yearly_game_ids.append(game.game_id)\n",
    "    print 'done month',month\n",
    "print len(yearly_game_ids),type(yearly_game_ids[0])"
   ]
  },
  {
   "cell_type": "code",
   "execution_count": null,
   "metadata": {},
   "outputs": [],
   "source": []
  },
  {
   "cell_type": "code",
   "execution_count": 128,
   "metadata": {},
   "outputs": [
    {
     "name": "stdout",
     "output_type": "stream",
     "text": [
      "<type 'str'> 2017_09_01_phimlb_miamlb_1\n",
      "514917 Walk\n",
      "520471 Forceout\n",
      "656555 Strikeout\n",
      "571830 Single\n",
      "596748 Strikeout\n"
     ]
    }
   ],
   "source": [
    "\n",
    "# This will get the complete play by play info in something that needs to \n",
    "#be decoded but could be very useful.\n",
    "print type(september_game_ids[0]),september_game_ids[0]\n",
    "game1_id=september_game_ids[0]\n",
    "g2=mlbgame.game_events(game_id=game1_id)\n",
    "g3=g2[0]\n",
    "g4=mlbgame.data.get_game_events(game1_id)\n",
    "for i in g3.top:\n",
    "    print i.batter,i.event\n",
    "    \n",
    "#  Uncomment this to look at the full page\n",
    "#########################print g4.geturl()\n",
    "#########################g4.readlines()"
   ]
  },
  {
   "cell_type": "code",
   "execution_count": 122,
   "metadata": {},
   "outputs": [
    {
     "name": "stdout",
     "output_type": "stream",
     "text": [
      "length of home_additional_batting: 13\n",
      "2017/09/01 7:10 0.25 400085 Suzuki, I 902 1 0\n",
      "2017/09/01 7:10 0.263 500743 Rojas 801 0 0\n",
      "2017/09/01 7:10 0.0 596071 Peters 900 2 0\n",
      "2017/09/01 7:10 0.263 449107 Aviles 800 3 0\n",
      "2017/09/01 7:10 0.276 592663 Realmuto 500 4 0\n",
      "2017/09/01 7:10 0.0 446899 Ziegler 903 0 0\n",
      "2017/09/01 7:10 0.307 542303 Ozuna 400 4 0\n",
      "2017/09/01 7:10 0.285 592885 Yelich 300 3 0\n",
      "2017/09/01 7:10 0.212 454560 Ellis 700 3 1\n",
      "2017/09/01 7:10 0.0 607457 Barraclough 901 0 0\n",
      "2017/09/01 7:10 0.288 519317 Stanton 200 2 0\n",
      "2017/09/01 7:10 0.333 605119 Anderson, B 600 3 1\n",
      "2017/09/01 7:10 0.301 543829 Gordon, D 100 4 2\n",
      "\n",
      "length of away_additional_batting: 15\n",
      "2017/09/01 7:10 ET ET 0.333 465753 Florimon 700 3 1\n",
      "2017/09/01 7:10 ET ET 0.0 593576 Neris 402 0 0\n",
      "2017/09/01 7:10 ET ET 0.198 571841 Kelly 901 1 0\n",
      "2017/09/01 7:10 ET ET 0.242 571830 Joseph, T 400 4 2\n",
      "2017/09/01 7:10 ET ET 0.254 520471 Galvis 200 4 1\n",
      "2017/09/01 7:10 ET ET 0.0 591693 Ramos, E 902 0 0\n",
      "2017/09/01 7:10 ET ET 0.27 608384 Williams, N 600 4 0\n",
      "2017/09/01 7:10 ET ET 0.167 433217 Blanco, A 904 1 0\n",
      "2017/09/01 7:10 ET ET 0.347 595751 Alfaro 800 4 1\n",
      "2017/09/01 7:10 ET ET 0.284 514917 Hernandez, C 100 3 0\n",
      "2017/09/01 7:10 ET ET 0.0 504379 Nicasio 401 0 0\n",
      "2017/09/01 7:10 ET ET 0.293 656555 Hoskins 300 3 0\n",
      "2017/09/01 7:10 ET ET 0.081 601713 Pivetta 900 2 0\n",
      "2017/09/01 7:10 ET ET 0.0 571948 Milner 903 0 0\n",
      "2017/09/01 7:10 ET ET 0.223 596748 Franco 500 4 1\n"
     ]
    }
   ],
   "source": [
    "#Singe game example\n",
    "#\n",
    "# instantiate stats object, get number home batters, grab stats by team (home then away)\n",
    "\n",
    "stats1=mlbgame.player_stats(game1_id)\n",
    "print 'length of home_additional_batting:',len(stats1.home_additional_batting)\n",
    "p1=stats1.home_additional_batting[0]\n",
    "for p in stats1.home_additional_batting:\n",
    "    o=mlbgame.overview(game_id=game1_id)\n",
    "    print o.time_date,p.bis_avg,p.id,p.name,p.bat_order,p.ab,p.h\n",
    "\n",
    "print '\\nlength of away_additional_batting:',len(stats1.away_additional_batting)\n",
    "for p in stats1.away_additional_batting:\n",
    "    print o.time_date,o.away_time_zone,o.home_time_zone,p.bis_avg,p.id,p.name,p.bat_order,p.ab,p.h"
   ]
  },
  {
   "cell_type": "code",
   "execution_count": 135,
   "metadata": {},
   "outputs": [
    {
     "data": {
      "text/plain": [
       "1"
      ]
     },
     "execution_count": 135,
     "metadata": {},
     "output_type": "execute_result"
    }
   ],
   "source": [
    "o.game_nbr"
   ]
  },
  {
   "cell_type": "code",
   "execution_count": 147,
   "metadata": {},
   "outputs": [],
   "source": [
    "# Allow simple efficiency calc in player dataframe using scalers and \n",
    "#trapping for missing values\n",
    "\n",
    "def calc_eff(ab,hits):\n",
    "    try:\n",
    "        return float(hits)/ab\n",
    "    except:\n",
    "        return np.nan"
   ]
  },
  {
   "cell_type": "code",
   "execution_count": 170,
   "metadata": {},
   "outputs": [
    {
     "name": "stdout",
     "output_type": "stream",
     "text": [
      "Issue with 2017_05_03_milmlb_slnmlb_1\n",
      "Issue with 2017_05_04_clemlb_detmlb_1\n",
      "Issue with 2017_05_07_lanmlb_sdnmlb_1\n",
      "Issue with 2017_05_10_minmlb_chamlb_1\n",
      "Issue with 2017_05_12_phimlb_wasmlb_1\n",
      "Issue with 2017_05_13_houmlb_nyamlb_1\n",
      "Issue with 2017_05_20_kcamlb_minmlb_1\n",
      "Issue with 2017_05_20_milmlb_chnmlb_1\n",
      "Issue with 2017_05_25_kcamlb_nyamlb_1\n",
      "Issue with 2017_05_25_cinmlb_clemlb_1\n",
      "Issue with 2017_05_26_detmlb_chamlb_2\n",
      "Issue with 2017_07_28_colmlb_wasmlb_1\n",
      "Issue with 2017_08_29_clemlb_nyamlb_1\n",
      "Issue with 2017_08_29_atlmlb_phimlb_1\n",
      "Issue with 2017_09_01_nynmlb_houmlb_1\n",
      "Issue with 2017_09_06_nyamlb_balmlb_1\n"
     ]
    }
   ],
   "source": [
    "#  Danger Will Robinson!  Danger!\n",
    "#  This code is reliable but slow.\n",
    "#  Included here for reference, but we should rewrite and make one pull that gets all\n",
    "#  stats we need.\n",
    "\n",
    "#  Suggest running next block that simply reads the datafile already gathered.\n",
    "\n",
    "\n",
    "batting_df=pd.DataFrame(columns=['game_id','date_time','park','park_id','team','hm_aw',\n",
    "                                 'player_name','player_id','bat_avg','bat_order',\n",
    "                                 'ab','hits','eff'])\n",
    "\n",
    "player_count=0  # doubles as artificial index for populating df,\n",
    "                # should be removed after establishing df\n",
    "    \n",
    "successful_games=[]\n",
    "num_players=[]\n",
    "issues=[]\n",
    "    \n",
    "#two_game_ids=[yearly_game_ids[0],yearly_game_ids[1]]\n",
    "\n",
    "for game in yearly_game_ids:\n",
    "#for game in two_game_ids:\n",
    "    \n",
    "    try:\n",
    "\n",
    "        stats1=mlbgame.player_stats(game)\n",
    "        o=mlbgame.overview(game_id=game)\n",
    "\n",
    "        hm_aw=1\n",
    "        for p in stats1.home_additional_batting:\n",
    "            batting_df.loc[player_count,'game_id']=game\n",
    "            batting_df.loc[player_count,'date_time']=o.time_date\n",
    "            batting_df.loc[player_count,'park']=o.venue\n",
    "            batting_df.loc[player_count,'park_id']=o.venue_id    \n",
    "            batting_df.loc[player_count,'team']=o.home_team_name\n",
    "            batting_df.loc[player_count,'hm_aw']=hm_aw\n",
    "            batting_df.loc[player_count,'player_name']=p.name_display_first_last\n",
    "            batting_df.loc[player_count,'player_id']=p.id\n",
    "            batting_df.loc[player_count,'bat_avg']=p.bis_avg\n",
    "            batting_df.loc[player_count,'bat_order']=p.bat_order\n",
    "            batting_df.loc[player_count,'ab']=p.ab\n",
    "            batting_df.loc[player_count,'hits']=p.h\n",
    "            player_count+=1\n",
    "\n",
    "        hm_aw=0\n",
    "        for p in stats1.away_additional_batting:\n",
    "            batting_df.loc[player_count,'game_id']=game\n",
    "            batting_df.loc[player_count,'date_time']=o.time_date\n",
    "            batting_df.loc[player_count,'park']=o.venue\n",
    "            batting_df.loc[player_count,'park_id']=o.venue_id\n",
    "            batting_df.loc[player_count,'team']=o.away_team_name\n",
    "            batting_df.loc[player_count,'hm_aw']=hm_aw\n",
    "            batting_df.loc[player_count,'player_name']=p.name_display_first_last\n",
    "            batting_df.loc[player_count,'player_id']=p.id\n",
    "            batting_df.loc[player_count,'bat_avg']=p.bis_avg\n",
    "            batting_df.loc[player_count,'bat_order']=p.bat_order\n",
    "            batting_df.loc[player_count,'ab']=p.ab\n",
    "            batting_df.loc[player_count,'hits']=p.h\n",
    "            player_count+=1\n",
    "        successful_games.append(game)\n",
    "        num_players.append(player_count)\n",
    "    \n",
    "    except:\n",
    "        print 'Issue with',game\n",
    "        issues.append(game)\n",
    "        \n",
    "batting_df['eff']=batting_df.apply((lambda x: calc_eff(x.ab,x.hits)),axis=1)"
   ]
  },
  {
   "cell_type": "code",
   "execution_count": 8,
   "metadata": {},
   "outputs": [],
   "source": [
    "batting_df=pd.read_csv(\"batting_df.csv\")"
   ]
  },
  {
   "cell_type": "code",
   "execution_count": 9,
   "metadata": {},
   "outputs": [
    {
     "name": "stdout",
     "output_type": "stream",
     "text": [
      "<class 'pandas.core.frame.DataFrame'>\n",
      "RangeIndex: 59915 entries, 0 to 59914\n",
      "Data columns (total 14 columns):\n",
      "Unnamed: 0     59915 non-null int64\n",
      "game_id        59915 non-null object\n",
      "date_time      59915 non-null object\n",
      "park           59915 non-null object\n",
      "park_id        59915 non-null int64\n",
      "team           59915 non-null object\n",
      "hm_aw          59915 non-null int64\n",
      "player_name    59915 non-null object\n",
      "player_id      59915 non-null int64\n",
      "bat_avg        59915 non-null float64\n",
      "bat_order      59915 non-null int64\n",
      "ab             59915 non-null int64\n",
      "hits           59915 non-null int64\n",
      "eff            42655 non-null float64\n",
      "dtypes: float64(2), int64(7), object(5)\n",
      "memory usage: 6.4+ MB\n"
     ]
    }
   ],
   "source": [
    "batting_df.info()"
   ]
  },
  {
   "cell_type": "code",
   "execution_count": 10,
   "metadata": {},
   "outputs": [
    {
     "name": "stdout",
     "output_type": "stream",
     "text": [
      "   Unnamed: 0                     game_id        date_time           park  \\\n",
      "0           0  2017_05_01_milmlb_slnmlb_1  2017/05/01 8:15  Busch Stadium   \n",
      "1           1  2017_05_01_milmlb_slnmlb_1  2017/05/01 8:15  Busch Stadium   \n",
      "2           2  2017_05_01_milmlb_slnmlb_1  2017/05/01 8:15  Busch Stadium   \n",
      "3           3  2017_05_01_milmlb_slnmlb_1  2017/05/01 8:15  Busch Stadium   \n",
      "4           4  2017_05_01_milmlb_slnmlb_1  2017/05/01 8:15  Busch Stadium   \n",
      "\n",
      "   park_id       team  hm_aw     player_name  player_id  bat_avg  bat_order  \\\n",
      "0     2889  Cardinals      1      Matt Adams     571431    0.286        901   \n",
      "1     2889  Cardinals      1   Seung Hwan Oh     493200    0.000        905   \n",
      "2     2889  Cardinals      1   Yadier Molina     425877    0.263        600   \n",
      "3     2889  Cardinals      1  Randal Grichuk     545341    0.250        700   \n",
      "4     2889  Cardinals      1  Kevin Siegrist     543779    0.000        903   \n",
      "\n",
      "   ab  hits  eff  \n",
      "0   1     1  1.0  \n",
      "1   0     0  NaN  \n",
      "2   5     1  0.2  \n",
      "3   5     2  0.4  \n",
      "4   0     0  NaN  \n",
      "       Unnamed: 0                     game_id        date_time  \\\n",
      "59910       59910  2017_09_30_seamlb_anamlb_1  2017/09/30 9:07   \n",
      "59911       59911  2017_09_30_seamlb_anamlb_1  2017/09/30 9:07   \n",
      "59912       59912  2017_09_30_seamlb_anamlb_1  2017/09/30 9:07   \n",
      "59913       59913  2017_09_30_seamlb_anamlb_1  2017/09/30 9:07   \n",
      "59914       59914  2017_09_30_seamlb_anamlb_1  2017/09/30 9:07   \n",
      "\n",
      "                           park  park_id      team  hm_aw    player_name  \\\n",
      "59910  Angel Stadium of Anaheim        1  Mariners      0  Andrew Albers   \n",
      "59911  Angel Stadium of Anaheim        1  Mariners      0   Emilio Pagan   \n",
      "59912  Angel Stadium of Anaheim        1  Mariners      0  Dan Altavilla   \n",
      "59913  Angel Stadium of Anaheim        1  Mariners      0    Kyle Seager   \n",
      "59914  Angel Stadium of Anaheim        1  Mariners      0  Yonder Alonso   \n",
      "\n",
      "       player_id  bat_avg  bat_order  ab  hits   eff  \n",
      "59910     452027    1.000       1100   0     0   NaN  \n",
      "59911     641941    0.000       1103   0     0   NaN  \n",
      "59912     656186    0.000       1101   0     0   NaN  \n",
      "59913     572122    0.251        500   4     1  0.25  \n",
      "59914     475174    0.267        600   4     2  0.50  \n"
     ]
    }
   ],
   "source": [
    "print batting_df.head(5)\n",
    "print batting_df.tail(5)"
   ]
  },
  {
   "cell_type": "code",
   "execution_count": 173,
   "metadata": {},
   "outputs": [],
   "source": [
    "#  Careful if you uncomment.  This overwrites existing datafile.\n",
    "#batting_df.to_csv('batting_df.csv')"
   ]
  },
  {
   "cell_type": "code",
   "execution_count": 18,
   "metadata": {},
   "outputs": [],
   "source": [
    "batting_df=pd.read_csv('batting_df.csv')"
   ]
  },
  {
   "cell_type": "code",
   "execution_count": 11,
   "metadata": {},
   "outputs": [
    {
     "data": {
      "text/html": [
       "<div>\n",
       "<style scoped>\n",
       "    .dataframe tbody tr th:only-of-type {\n",
       "        vertical-align: middle;\n",
       "    }\n",
       "\n",
       "    .dataframe tbody tr th {\n",
       "        vertical-align: top;\n",
       "    }\n",
       "\n",
       "    .dataframe thead th {\n",
       "        text-align: right;\n",
       "    }\n",
       "</style>\n",
       "<table border=\"1\" class=\"dataframe\">\n",
       "  <thead>\n",
       "    <tr style=\"text-align: right;\">\n",
       "      <th></th>\n",
       "      <th>Unnamed: 0</th>\n",
       "      <th>park_id</th>\n",
       "      <th>hm_aw</th>\n",
       "      <th>player_id</th>\n",
       "      <th>bat_avg</th>\n",
       "      <th>bat_order</th>\n",
       "      <th>ab</th>\n",
       "      <th>hits</th>\n",
       "      <th>eff</th>\n",
       "    </tr>\n",
       "  </thead>\n",
       "  <tbody>\n",
       "    <tr>\n",
       "      <th>count</th>\n",
       "      <td>59915.000000</td>\n",
       "      <td>59915.000000</td>\n",
       "      <td>59915.000000</td>\n",
       "      <td>59915.000000</td>\n",
       "      <td>59915.000000</td>\n",
       "      <td>59915.000000</td>\n",
       "      <td>59915.000000</td>\n",
       "      <td>59915.000000</td>\n",
       "      <td>42655.000000</td>\n",
       "    </tr>\n",
       "    <tr>\n",
       "      <th>mean</th>\n",
       "      <td>29957.000000</td>\n",
       "      <td>1381.945623</td>\n",
       "      <td>0.503864</td>\n",
       "      <td>533455.454227</td>\n",
       "      <td>0.192743</td>\n",
       "      <td>641.694784</td>\n",
       "      <td>2.330034</td>\n",
       "      <td>0.597763</td>\n",
       "      <td>0.243838</td>\n",
       "    </tr>\n",
       "    <tr>\n",
       "      <th>std</th>\n",
       "      <td>17296.115026</td>\n",
       "      <td>1586.369431</td>\n",
       "      <td>0.499989</td>\n",
       "      <td>72665.483230</td>\n",
       "      <td>0.128287</td>\n",
       "      <td>317.537594</td>\n",
       "      <td>1.815890</td>\n",
       "      <td>0.841159</td>\n",
       "      <td>0.264732</td>\n",
       "    </tr>\n",
       "    <tr>\n",
       "      <th>min</th>\n",
       "      <td>0.000000</td>\n",
       "      <td>1.000000</td>\n",
       "      <td>0.000000</td>\n",
       "      <td>112526.000000</td>\n",
       "      <td>0.000000</td>\n",
       "      <td>100.000000</td>\n",
       "      <td>0.000000</td>\n",
       "      <td>0.000000</td>\n",
       "      <td>0.000000</td>\n",
       "    </tr>\n",
       "    <tr>\n",
       "      <th>25%</th>\n",
       "      <td>14978.500000</td>\n",
       "      <td>12.000000</td>\n",
       "      <td>0.000000</td>\n",
       "      <td>471083.000000</td>\n",
       "      <td>0.029500</td>\n",
       "      <td>400.000000</td>\n",
       "      <td>0.000000</td>\n",
       "      <td>0.000000</td>\n",
       "      <td>0.000000</td>\n",
       "    </tr>\n",
       "    <tr>\n",
       "      <th>50%</th>\n",
       "      <td>29957.000000</td>\n",
       "      <td>32.000000</td>\n",
       "      <td>1.000000</td>\n",
       "      <td>543272.000000</td>\n",
       "      <td>0.240000</td>\n",
       "      <td>700.000000</td>\n",
       "      <td>3.000000</td>\n",
       "      <td>0.000000</td>\n",
       "      <td>0.250000</td>\n",
       "    </tr>\n",
       "    <tr>\n",
       "      <th>75%</th>\n",
       "      <td>44935.500000</td>\n",
       "      <td>2681.000000</td>\n",
       "      <td>1.000000</td>\n",
       "      <td>593700.000000</td>\n",
       "      <td>0.276000</td>\n",
       "      <td>901.000000</td>\n",
       "      <td>4.000000</td>\n",
       "      <td>1.000000</td>\n",
       "      <td>0.400000</td>\n",
       "    </tr>\n",
       "    <tr>\n",
       "      <th>max</th>\n",
       "      <td>59914.000000</td>\n",
       "      <td>4705.000000</td>\n",
       "      <td>1.000000</td>\n",
       "      <td>669720.000000</td>\n",
       "      <td>1.000000</td>\n",
       "      <td>1111.000000</td>\n",
       "      <td>9.000000</td>\n",
       "      <td>5.000000</td>\n",
       "      <td>1.000000</td>\n",
       "    </tr>\n",
       "  </tbody>\n",
       "</table>\n",
       "</div>"
      ],
      "text/plain": [
       "         Unnamed: 0       park_id         hm_aw      player_id       bat_avg  \\\n",
       "count  59915.000000  59915.000000  59915.000000   59915.000000  59915.000000   \n",
       "mean   29957.000000   1381.945623      0.503864  533455.454227      0.192743   \n",
       "std    17296.115026   1586.369431      0.499989   72665.483230      0.128287   \n",
       "min        0.000000      1.000000      0.000000  112526.000000      0.000000   \n",
       "25%    14978.500000     12.000000      0.000000  471083.000000      0.029500   \n",
       "50%    29957.000000     32.000000      1.000000  543272.000000      0.240000   \n",
       "75%    44935.500000   2681.000000      1.000000  593700.000000      0.276000   \n",
       "max    59914.000000   4705.000000      1.000000  669720.000000      1.000000   \n",
       "\n",
       "          bat_order            ab          hits           eff  \n",
       "count  59915.000000  59915.000000  59915.000000  42655.000000  \n",
       "mean     641.694784      2.330034      0.597763      0.243838  \n",
       "std      317.537594      1.815890      0.841159      0.264732  \n",
       "min      100.000000      0.000000      0.000000      0.000000  \n",
       "25%      400.000000      0.000000      0.000000      0.000000  \n",
       "50%      700.000000      3.000000      0.000000      0.250000  \n",
       "75%      901.000000      4.000000      1.000000      0.400000  \n",
       "max     1111.000000      9.000000      5.000000      1.000000  "
      ]
     },
     "execution_count": 11,
     "metadata": {},
     "output_type": "execute_result"
    }
   ],
   "source": [
    "batting_df.describe()"
   ]
  },
  {
   "cell_type": "code",
   "execution_count": 175,
   "metadata": {},
   "outputs": [
    {
     "name": "stdout",
     "output_type": "stream",
     "text": [
      "['2017_05_03_milmlb_slnmlb_1', '2017_05_04_clemlb_detmlb_1', '2017_05_07_lanmlb_sdnmlb_1', '2017_05_10_minmlb_chamlb_1', '2017_05_12_phimlb_wasmlb_1', '2017_05_13_houmlb_nyamlb_1', '2017_05_20_kcamlb_minmlb_1', '2017_05_20_milmlb_chnmlb_1', '2017_05_25_kcamlb_nyamlb_1', '2017_05_25_cinmlb_clemlb_1', '2017_05_26_detmlb_chamlb_2', '2017_07_28_colmlb_wasmlb_1', '2017_08_29_clemlb_nyamlb_1', '2017_08_29_atlmlb_phimlb_1', '2017_09_01_nynmlb_houmlb_1', '2017_09_06_nyamlb_balmlb_1']\n"
     ]
    }
   ],
   "source": [
    "\n",
    "#  These games were rescheduled and need to be checked to see if they are in the DB\n",
    "print issues"
   ]
  },
  {
   "cell_type": "code",
   "execution_count": 12,
   "metadata": {},
   "outputs": [
    {
     "data": {
      "text/html": [
       "<div>\n",
       "<style scoped>\n",
       "    .dataframe tbody tr th:only-of-type {\n",
       "        vertical-align: middle;\n",
       "    }\n",
       "\n",
       "    .dataframe tbody tr th {\n",
       "        vertical-align: top;\n",
       "    }\n",
       "\n",
       "    .dataframe thead th {\n",
       "        text-align: right;\n",
       "    }\n",
       "</style>\n",
       "<table border=\"1\" class=\"dataframe\">\n",
       "  <thead>\n",
       "    <tr style=\"text-align: right;\">\n",
       "      <th></th>\n",
       "      <th>Unnamed: 0</th>\n",
       "      <th>game_id</th>\n",
       "      <th>date_time</th>\n",
       "      <th>park</th>\n",
       "      <th>park_id</th>\n",
       "      <th>team</th>\n",
       "      <th>hm_aw</th>\n",
       "      <th>player_name</th>\n",
       "      <th>player_id</th>\n",
       "      <th>bat_avg</th>\n",
       "      <th>bat_order</th>\n",
       "      <th>ab</th>\n",
       "      <th>hits</th>\n",
       "      <th>eff</th>\n",
       "    </tr>\n",
       "  </thead>\n",
       "  <tbody>\n",
       "    <tr>\n",
       "      <th>713</th>\n",
       "      <td>713</td>\n",
       "      <td>2017_05_02_anamlb_seamlb_1</td>\n",
       "      <td>2017/05/02 10:10</td>\n",
       "      <td>Safeco Field</td>\n",
       "      <td>680</td>\n",
       "      <td>Angels</td>\n",
       "      <td>0</td>\n",
       "      <td>Mike Trout</td>\n",
       "      <td>545361</td>\n",
       "      <td>0.363</td>\n",
       "      <td>300</td>\n",
       "      <td>3</td>\n",
       "      <td>1</td>\n",
       "      <td>0.333333</td>\n",
       "    </tr>\n",
       "    <tr>\n",
       "      <th>837</th>\n",
       "      <td>837</td>\n",
       "      <td>2017_05_03_anamlb_seamlb_1</td>\n",
       "      <td>2017/05/03 10:10</td>\n",
       "      <td>Safeco Field</td>\n",
       "      <td>680</td>\n",
       "      <td>Angels</td>\n",
       "      <td>0</td>\n",
       "      <td>Mike Trout</td>\n",
       "      <td>545361</td>\n",
       "      <td>0.358</td>\n",
       "      <td>300</td>\n",
       "      <td>4</td>\n",
       "      <td>1</td>\n",
       "      <td>0.250000</td>\n",
       "    </tr>\n",
       "    <tr>\n",
       "      <th>1836</th>\n",
       "      <td>1836</td>\n",
       "      <td>2017_05_05_houmlb_anamlb_1</td>\n",
       "      <td>2017/05/05 10:07</td>\n",
       "      <td>Angel Stadium of Anaheim</td>\n",
       "      <td>1</td>\n",
       "      <td>Angels</td>\n",
       "      <td>1</td>\n",
       "      <td>Mike Trout</td>\n",
       "      <td>545361</td>\n",
       "      <td>0.355</td>\n",
       "      <td>300</td>\n",
       "      <td>4</td>\n",
       "      <td>1</td>\n",
       "      <td>0.250000</td>\n",
       "    </tr>\n",
       "    <tr>\n",
       "      <th>3987</th>\n",
       "      <td>3987</td>\n",
       "      <td>2017_05_11_detmlb_anamlb_1</td>\n",
       "      <td>2017/05/11 10:07</td>\n",
       "      <td>Angel Stadium of Anaheim</td>\n",
       "      <td>1</td>\n",
       "      <td>Angels</td>\n",
       "      <td>1</td>\n",
       "      <td>Mike Trout</td>\n",
       "      <td>545361</td>\n",
       "      <td>0.342</td>\n",
       "      <td>300</td>\n",
       "      <td>4</td>\n",
       "      <td>0</td>\n",
       "      <td>0.000000</td>\n",
       "    </tr>\n",
       "    <tr>\n",
       "      <th>4185</th>\n",
       "      <td>4185</td>\n",
       "      <td>2017_05_12_detmlb_anamlb_1</td>\n",
       "      <td>2017/05/12 10:07</td>\n",
       "      <td>Angel Stadium of Anaheim</td>\n",
       "      <td>1</td>\n",
       "      <td>Angels</td>\n",
       "      <td>1</td>\n",
       "      <td>Mike Trout</td>\n",
       "      <td>545361</td>\n",
       "      <td>0.336</td>\n",
       "      <td>200</td>\n",
       "      <td>5</td>\n",
       "      <td>1</td>\n",
       "      <td>0.200000</td>\n",
       "    </tr>\n",
       "  </tbody>\n",
       "</table>\n",
       "</div>"
      ],
      "text/plain": [
       "      Unnamed: 0                     game_id         date_time  \\\n",
       "713          713  2017_05_02_anamlb_seamlb_1  2017/05/02 10:10   \n",
       "837          837  2017_05_03_anamlb_seamlb_1  2017/05/03 10:10   \n",
       "1836        1836  2017_05_05_houmlb_anamlb_1  2017/05/05 10:07   \n",
       "3987        3987  2017_05_11_detmlb_anamlb_1  2017/05/11 10:07   \n",
       "4185        4185  2017_05_12_detmlb_anamlb_1  2017/05/12 10:07   \n",
       "\n",
       "                          park  park_id    team  hm_aw player_name  player_id  \\\n",
       "713               Safeco Field      680  Angels      0  Mike Trout     545361   \n",
       "837               Safeco Field      680  Angels      0  Mike Trout     545361   \n",
       "1836  Angel Stadium of Anaheim        1  Angels      1  Mike Trout     545361   \n",
       "3987  Angel Stadium of Anaheim        1  Angels      1  Mike Trout     545361   \n",
       "4185  Angel Stadium of Anaheim        1  Angels      1  Mike Trout     545361   \n",
       "\n",
       "      bat_avg  bat_order  ab  hits       eff  \n",
       "713     0.363        300   3     1  0.333333  \n",
       "837     0.358        300   4     1  0.250000  \n",
       "1836    0.355        300   4     1  0.250000  \n",
       "3987    0.342        300   4     0  0.000000  \n",
       "4185    0.336        200   5     1  0.200000  "
      ]
     },
     "execution_count": 12,
     "metadata": {},
     "output_type": "execute_result"
    }
   ],
   "source": [
    "trout=batting_df[batting_df['player_name']=='Mike Trout']\n",
    "trout.head()"
   ]
  },
  {
   "cell_type": "code",
   "execution_count": 13,
   "metadata": {},
   "outputs": [
    {
     "data": {
      "image/png": "[encoded data removed]",
      "text/plain": [
       "<matplotlib.figure.Figure at 0xdbe2a20>"
      ]
     },
     "metadata": {},
     "output_type": "display_data"
    },
    {
     "name": "stdout",
     "output_type": "stream",
     "text": [
      "\n",
      "Trout played in  86 games\n",
      "He had 301 at bats with 86 hits\n",
      "He got zero hits in 33.7 percent of his games\n"
     ]
    }
   ],
   "source": [
    "\n",
    "pile=plt.hist(trout.eff,bins=5)\n",
    "plt.close()\n",
    "pile1=np.array(5)\n",
    "pile1=pile[0]/trout.eff.count()\n",
    "plt.hist(trout.eff,bins=5,align='left')\n",
    "plt.xlim(-0.2,1.2)\n",
    "plt.show()\n",
    "plt.close()\n",
    "print ''\n",
    "print \"Trout played in \",trout.eff.count(),'games'\n",
    "print \"He had\",trout.ab.sum(),'at bats with',trout.hits.sum(),\"hits\"\n",
    "print \"He got zero hits in %3.1f percent of his games\"%(pile1[0]*100)"
   ]
  },
  {
   "cell_type": "code",
   "execution_count": 15,
   "metadata": {
    "scrolled": true
   },
   "outputs": [
    {
     "name": "stderr",
     "output_type": "stream",
     "text": [
      "C:\\Users\\bill_\\Anaconda2\\lib\\site-packages\\ipykernel_launcher.py:13: SettingWithCopyWarning: \n",
      "A value is trying to be set on a copy of a slice from a DataFrame\n",
      "\n",
      "See the caveats in the documentation: http://pandas.pydata.org/pandas-docs/stable/indexing.html#indexing-view-versus-copy\n",
      "  del sys.path[0]\n"
     ]
    },
    {
     "name": "stdout",
     "output_type": "stream",
     "text": [
      "\n",
      "\n",
      "\n",
      "\n",
      "\n",
      "\n"
     ]
    },
    {
     "data": {
      "image/png": "[encoded data removed]",
      "text/plain": [
       "<matplotlib.figure.Figure at 0xda10b70>"
      ]
     },
     "metadata": {},
     "output_type": "display_data"
    },
    {
     "name": "stdout",
     "output_type": "stream",
     "text": [
      "\n"
     ]
    }
   ],
   "source": [
    "# Pick some of the top guys, take a look\n",
    "\n",
    "\n",
    "\n",
    "plt.close()\n",
    "fig = plt.figure(figsize=(14,8))\n",
    "\n",
    "batter_count=1\n",
    "for b in best_batters:\n",
    "   \n",
    "    best_b=batting_df[batting_df['player_name']==b]\n",
    "    best_b.dropna(axis=0,inplace=True)\n",
    "\n",
    "    pile1=np.sum(best_b.hits==0)/float(best_b.hits.count())\n",
    "    \n",
    "    ax=plt.subplot(3,2,batter_count)\n",
    "    ax=plt.hist(best_b.eff,bins=5,align='left',)\n",
    "    \n",
    "    plt.xlim(-0.2,1.0)\n",
    "    tmp=int(pile1*1000)/10\n",
    "    xlab=b+\" no hits \"+str(tmp)+'% of games'\n",
    "    plt.xlabel(\"hits/ab\")\n",
    "    plt.ylabel(\"occurences\")\n",
    "    plt.ylim(0,50)\n",
    "    plt.title(xlab)    \n",
    "    batter_count+=1\n",
    "    plt.tight_layout()\n",
    "    print ''\n",
    "\n",
    "plt.savefig('Top 6 Batters.png')\n",
    "plt.show()\n",
    "plt.close()\n",
    "print ''\n",
    "    "
   ]
  },
  {
   "cell_type": "code",
   "execution_count": 68,
   "metadata": {
    "scrolled": true
   },
   "outputs": [
    {
     "name": "stdout",
     "output_type": "stream",
     "text": [
      " \n",
      "ab      2     3     4    5    6\n",
      "hits                           \n",
      "0     5.0   3.0  19.0  1.0  NaN\n",
      "1     2.0  11.0  29.0  5.0  2.0\n",
      "2     NaN   7.0  20.0  4.0  NaN\n",
      "3     NaN   1.0   7.0  8.0  NaN\n",
      "4     NaN   NaN   1.0  3.0  NaN\n"
     ]
    },
    {
     "data": {
      "image/png": "[encoded data removed]",
      "text/plain": [
       "<matplotlib.figure.Figure at 0x1460cda0>"
      ]
     },
     "metadata": {},
     "output_type": "display_data"
    }
   ],
   "source": [
    "ab=batting_df.ab\n",
    "hits=batting_df.hits\n",
    "batting_df['wif_games']=batting_df.hits.apply(lambda x: 0 if x>0 else 1)\n",
    "#batting_df.drop('Unnamed: 0',axis=1,inplace=True)\n",
    "batting_df.dropna(axis=0, inplace=True)\n",
    "\n",
    "hitters=batting_df[batting_df['player_name']=='Jose Altuve']\n",
    "hitters=hitters.loc[:,['ab','hits','wif_games']]\n",
    "hitters.reset_index(drop=True,inplace=True)\n",
    "hitters=hitters.pivot_table(columns=\"ab\", index=\"hits\", values=\"wif_games\",aggfunc='count')\n",
    "#print hitters.head()\n",
    "ax = sns.heatmap(hitters)\n",
    "#plt.show()\n",
    "\n",
    "print' '\n",
    "hitters=batting_df[batting_df['player_name']=='Jose Altuve']\n",
    "hitters=hitters.loc[:,['ab','hits','wif_games']]\n",
    "hitters.reset_index(drop=True,inplace=True)\n",
    "da_guy=hitters.pivot_table(columns=\"ab\", index=\"hits\", values=\"wif_games\",aggfunc='count')\n",
    "\n",
    "#bob=hitters.groupby('ab').count()\n",
    "print da_guy"
   ]
  },
  {
   "cell_type": "code",
   "execution_count": 135,
   "metadata": {},
   "outputs": [
    {
     "name": "stdout",
     "output_type": "stream",
     "text": [
      "Jose Altuve\n"
     ]
    },
    {
     "data": {
      "image/png": "[encoded data removed]",
      "text/plain": [
       "<matplotlib.figure.Figure at 0x145d3748>"
      ]
     },
     "metadata": {},
     "output_type": "display_data"
    },
    {
     "name": "stdout",
     "output_type": "stream",
     "text": [
      "\t\tAt Bats/game\n",
      "              2     3     4     5    6\n",
      "games         7    22    76    21    2\n",
      "wif_games     5     3    19     1  NaN\n",
      "wif_per    0.71  0.13  0.25  0.04  NaN \n",
      "\n",
      "Charlie Blackmon\n"
     ]
    },
    {
     "data": {
      "image/png": "[encoded data removed]",
      "text/plain": [
       "<matplotlib.figure.Figure at 0x18255550>"
      ]
     },
     "metadata": {},
     "output_type": "display_data"
    },
    {
     "name": "stdout",
     "output_type": "stream",
     "text": [
      "\t\tAt Bats/game\n",
      "           1    2     3     4     5    6\n",
      "games      1    2    27    66    34    3\n",
      "wif_games  1    1     9    14     6  NaN\n",
      "wif_per    1  0.5  0.33  0.21  0.17  NaN \n",
      "\n",
      "Daniel Murphy\n"
     ]
    },
    {
     "data": {
      "image/png": "[encoded data removed]",
      "text/plain": [
       "<matplotlib.figure.Figure at 0x162f2a58>"
      ]
     },
     "metadata": {},
     "output_type": "display_data"
    },
    {
     "name": "stdout",
     "output_type": "stream",
     "text": [
      "\t\tAt Bats/game\n",
      "              1     2     3     4     5    6\n",
      "games         6     3    38    59    12    1\n",
      "wif_games     5     1    16    10     1  NaN\n",
      "wif_per    0.83  0.33  0.42  0.16  0.08  NaN \n",
      "\n",
      "Justin Turner\n"
     ]
    },
    {
     "data": {
      "image/png": "[encoded data removed]",
      "text/plain": [
       "<matplotlib.figure.Figure at 0x15c7fe80>"
      ]
     },
     "metadata": {},
     "output_type": "display_data"
    },
    {
     "name": "stdout",
     "output_type": "stream",
     "text": [
      "\t\tAt Bats/game\n",
      "             1    2     3    4     5\n",
      "games        4   10    32   43    15\n",
      "wif_games    2    8     9    9     2\n",
      "wif_per    0.5  0.8  0.28  0.2  0.13 \n",
      "\n",
      "Joey Votto\n"
     ]
    },
    {
     "data": {
      "image/png": "[encoded data removed]",
      "text/plain": [
       "<matplotlib.figure.Figure at 0x11eeb438>"
      ]
     },
     "metadata": {},
     "output_type": "display_data"
    },
    {
     "name": "stdout",
     "output_type": "stream",
     "text": [
      "\t\tAt Bats/game\n",
      "             1     2     3     4     5    8\n",
      "games        5    18    50    48    15    1\n",
      "wif_games    4     7    14     7     1  NaN\n",
      "wif_per    0.8  0.38  0.28  0.14  0.06  NaN \n",
      "\n",
      "Buster Posey\n"
     ]
    },
    {
     "data": {
      "image/png": "[encoded data removed]",
      "text/plain": [
       "<matplotlib.figure.Figure at 0x11ef9f28>"
      ]
     },
     "metadata": {},
     "output_type": "display_data"
    },
    {
     "name": "stdout",
     "output_type": "stream",
     "text": [
      "\t\tAt Bats/game\n",
      "              1    2     3     4    5    7\n",
      "games         9    6    34    56   15    1\n",
      "wif_games     7    3    14    12  NaN  NaN\n",
      "wif_per    0.77  0.5  0.41  0.21  NaN  NaN \n",
      "\n"
     ]
    }
   ],
   "source": [
    "#  Look at the best hitters, map at bats, number of hits, and wif games\n",
    "\n",
    "player_summary=[]\n",
    "\n",
    "for b in best_batters:\n",
    "    hitters=batting_df[batting_df['player_name']== b]\n",
    "    hitters=hitters.loc[:,['ab','hits','wif_games']]\n",
    "    hitters.reset_index(drop=True,inplace=True)\n",
    "    \n",
    "    da_guy=hitters.pivot_table(columns=\"ab\", index=\"hits\", values=\"wif_games\",aggfunc='count')\n",
    "    #print b\n",
    "    #print da_guy,'\\n'\n",
    "    ab_holder=np.array(da_guy.columns)\n",
    "    \n",
    "    ab_tots=da_guy.sum()\n",
    "    ab_bins=da_guy.iloc[0,:]/ab_tots\n",
    "    \n",
    "    cols=len(ab_holder)\n",
    "    player_summary=pd.DataFrame(columns=ab_holder,index=['games','wif_games','wif_per'],)\n",
    "\n",
    "    for c in player_summary.columns:\n",
    "        player_summary.loc['games',c]=ab_tots[c]\n",
    "        \n",
    "        try:\n",
    "            player_summary.loc['wif_games',c]=da_guy.loc[0,c]\n",
    "        except:\n",
    "            pass\n",
    "        \n",
    "        try:\n",
    "            player_summary.loc['wif_per',c]=int(ab_bins[c]*100)/float(100)\n",
    "        except:\n",
    "            pass\n",
    "\n",
    "    print b\n",
    "    plt.bar(ab_holder,player_summary.loc['wif_games',:])\n",
    "    plt.xticks(range(6))\n",
    "    plt.yticks(range(20))\n",
    "    plt.xlabel('At Bats')\n",
    "    plt.ylabel('Occurences')\n",
    "    plt.title('Wif Games')\n",
    "    plt.show()\n",
    "\n",
    "    print '\\t\\tAt Bats/game'\n",
    "    print player_summary,'\\n'\n"
   ]
  },
  {
   "cell_type": "code",
   "execution_count": null,
   "metadata": {},
   "outputs": [],
   "source": []
  }
 ],
 "metadata": {
  "kernelspec": {
   "display_name": "Python 2",
   "language": "python",
   "name": "python2"
  },
  "language_info": {
   "codemirror_mode": {
    "name": "ipython",
    "version": 2
   },
   "file_extension": ".py",
   "mimetype": "text/x-python",
   "name": "python",
   "nbconvert_exporter": "python",
   "pygments_lexer": "ipython2",
   "version": "2.7.14"
  }
 },
 "nbformat": 4,
 "nbformat_minor": 2
}
